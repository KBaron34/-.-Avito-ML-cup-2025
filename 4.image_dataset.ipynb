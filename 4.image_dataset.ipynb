{
 "cells": [
  {
   "cell_type": "markdown",
   "id": "2c28d762",
   "metadata": {},
   "source": [
    "# Генерация эмбеддингов изображений\n",
    "\n",
    "## Общее описание\n",
    "Ноутбук выполняет обработку изображений товаров для получения векторных представлений с использованием предобученной ViT-модели. Процесс включает:\n",
    "\n",
    "1. Извлечение изображений из архивов\n",
    "2. Пакетную обработку изображений\n",
    "3. Сохранение эмбеддингов\n",
    "4. Объединение результатов\n",
    "\n",
    "## Особенности реализации\n",
    "\n",
    "### Пакетная обработка\n",
    "| **Аспект** | **Реализация** | **Преимущество** |\n",
    "|------------|----------------|------------------|\n",
    "| Размер батча | 20,000 изображений | Оптимальное использование памяти GPU |\n",
    "| Стратегия | Последовательная обработка батчей | Минимизация перегрузки памяти |\n",
    "| Валидация | Проверка каждого изображения | Гарантия качества данных |\n",
    "\n",
    "## Дальнейшие шаги\n",
    "- Объединение всех батчей в единый датасет\n",
    "- Нормализация эмбеддингов\n",
    "- Интеграция с текстовыми признаками"
   ]
  },
  {
   "cell_type": "code",
   "execution_count": null,
   "id": "3fa8a377",
   "metadata": {},
   "outputs": [],
   "source": [
    "import os\n",
    "from PIL import Image\n",
    "import numpy as np\n",
    "import pandas as pd\n",
    "from tqdm import tqdm\n",
    "from pathlib import Path\n",
    "from transformers import AutoFeatureExtractor, AutoModel\n",
    "import torchvision.transforms as T\n",
    "import torch\n",
    "import zipfile\n",
    "from pathlib import Path\n",
    "from torch.utils.data import DataLoader\n",
    "import pickle\n",
    "import gc\n",
    "from tqdm.auto import tqdm\n",
    "tqdm.pandas(desc='Tokenizing rows')\n",
    "\n",
    "import warnings\n",
    "warnings.filterwarnings('ignore')\n"
   ]
  },
  {
   "cell_type": "code",
   "execution_count": null,
   "id": "1a58635c",
   "metadata": {},
   "outputs": [],
   "source": [
    "# Извлекаем изображения из архивов, отдельно для каждой части\n",
    "\n",
    "# Set the target directory\n",
    "p = Path('data/train/part_2')\n",
    "\n",
    "\n",
    "for f in p.glob('*.zip'):\n",
    "    # Open the Zip file\n",
    "    with zipfile.ZipFile(f, 'r') as archive:\n",
    "        archive.extractall('data/train/part_2')\n",
    "        print(f\"Extracted contents from '{f.name}' to '{f.stem}' directory.\")"
   ]
  },
  {
   "cell_type": "markdown",
   "id": "19eaa9ed",
   "metadata": {},
   "source": [
    "# Get embeddings"
   ]
  },
  {
   "cell_type": "code",
   "execution_count": null,
   "id": "aad9a3aa",
   "metadata": {},
   "outputs": [
    {
     "name": "stderr",
     "output_type": "stream",
     "text": [
      "Some weights of ViTModel were not initialized from the model checkpoint at nateraw/vit-base-beans and are newly initialized: ['vit.pooler.dense.bias', 'vit.pooler.dense.weight']\n",
      "You should probably TRAIN this model on a down-stream task to be able to use it for predictions and inference.\n"
     ]
    }
   ],
   "source": [
    "# Подгружаем модель для извлечения эмбеддингов изображений.\n",
    "\n",
    "#train1 = pd.read_parquet('data/train/part_2/train_part_0002.snappy.parquet')\n",
    "model_ckpt = \"nateraw/vit-base-beans\"\n",
    "extractor = AutoFeatureExtractor.from_pretrained(model_ckpt)\n",
    "model = AutoModel.from_pretrained(model_ckpt).to(\"cuda:0\")\n",
    "hidden_dim = model.config.hidden_size"
   ]
  },
  {
   "cell_type": "code",
   "execution_count": null,
   "id": "62da0ac9",
   "metadata": {},
   "outputs": [],
   "source": [
    "# Обрабатываем изображения по частям (указываем path для датасета и соответствующих фото)\n",
    "\n",
    "dataset_path = 'data/test/test_part_0002.snappy.parquet'\n",
    "image_folder_path = 'data/test'"
   ]
  },
  {
   "cell_type": "code",
   "execution_count": 4,
   "id": "7918018f",
   "metadata": {},
   "outputs": [],
   "source": [
    "# Data transformation chain.\n",
    "transformation_chain = T.Compose(\n",
    "    [\n",
    "        # We first resize the input image to 256x256 and then we take center crop.\n",
    "        T.Resize(extractor.size[\"height\"]),\n",
    "        T.CenterCrop(extractor.size[\"height\"]),\n",
    "        T.ToTensor(),\n",
    "        T.Normalize(mean=extractor.image_mean, std=extractor.image_std),\n",
    "    ]\n",
    ")"
   ]
  },
  {
   "cell_type": "code",
   "execution_count": null,
   "id": "268e2b2b",
   "metadata": {},
   "outputs": [],
   "source": [
    "# Функция для получения эмбеддингов фото\n",
    "\n",
    "def image_dataset(dataset_path, image_path):\n",
    "\n",
    "    dataset = pd.read_parquet(dataset_path)\n",
    "    \n",
    "\n",
    "    all_images_id = pd.concat([dataset['base_title_image'], dataset['cand_title_image']]).unique()\n",
    "\n",
    "    batch_size = 20000\n",
    "    batches = [all_images_id[i:i+batch_size] for i in range(0, all_images_id.shape[0], batch_size)]\n",
    "    image_size = extractor.size[\"height\"]\n",
    "    \n",
    "    device = model.device\n",
    "\n",
    "    valid_indices = []\n",
    "   \n",
    "    for batch_idx, batch in enumerate(batches, start=1):\n",
    "        print(f\"\\n🔄 Батч {batch_idx} из {len(batches)}\")\n",
    "\n",
    "        images_tensor = torch.zeros((len(batch), 3, image_size, image_size))\n",
    "        \n",
    "\n",
    "        batch_path = Path(image_path)\n",
    "        for i, image_id in enumerate(tqdm(batch, leave=False)):\n",
    "            img_path = batch_path / f'{image_id}.jpg'\n",
    "            try:\n",
    "                with Image.open(img_path) as im:\n",
    "                    image = im.convert(\"RGB\")\n",
    "                    tensor = transformation_chain(image)\n",
    "                    images_tensor[i] = tensor\n",
    "                    valid_indices.append(image_id)\n",
    "            except Exception:\n",
    "                pass  # Оставим нули в images_tensor\n",
    "\n",
    "\n",
    "        data_loader = DataLoader(images_tensor, batch_size=256, shuffle=False, num_workers=2, pin_memory=True)\n",
    "\n",
    "        del images_tensor  # Освобождаем RAM\n",
    "\n",
    "        outputs = []\n",
    "\n",
    "        with torch.no_grad():\n",
    "            for batch_data in data_loader:\n",
    "                batch_data = batch_data.to(device, non_blocking=True)\n",
    "                embeddings = model(pixel_values=batch_data).last_hidden_state[:, 0].cpu()\n",
    "                outputs.append(embeddings)\n",
    "                \n",
    "\n",
    "        embeddings_tensor = torch.cat(outputs)\n",
    "        emb_df = pd.DataFrame(embeddings_tensor.numpy())\n",
    "\n",
    "        output_file = f'data/2_test_image_embedding_{batch_idx:03}.pkl'\n",
    "        with open(output_file, 'wb') as f:\n",
    "            pickle.dump(emb_df, f, protocol=pickle.HIGHEST_PROTOCOL)\n",
    "\n",
    "        # Очистка\n",
    "        del data_loader, outputs, emb_df, embeddings_tensor\n",
    "        torch.cuda.empty_cache()\n",
    "        gc.collect()\n",
    "\n",
    "        print(f\"✅ Готово: {output_file}\")\n",
    "\n",
    "    print(f\"valid indices {len(valid_indices)}\")\n",
    "    with open(\"2_test_valid_indices\", 'wb') as f:\n",
    "        pickle.dump(valid_indices, f, protocol=pickle.HIGHEST_PROTOCOL)\n",
    "\n",
    "        \n"
   ]
  },
  {
   "cell_type": "code",
   "execution_count": 6,
   "id": "b8b03eea",
   "metadata": {},
   "outputs": [
    {
     "name": "stdout",
     "output_type": "stream",
     "text": [
      "\n",
      "🔄 Батч 1 из 21\n"
     ]
    },
    {
     "data": {
      "application/vnd.jupyter.widget-view+json": {
       "model_id": "03983bc425884a1299b7f50347a03963",
       "version_major": 2,
       "version_minor": 0
      },
      "text/plain": [
       "  0%|          | 0/20000 [00:00<?, ?it/s]"
      ]
     },
     "metadata": {},
     "output_type": "display_data"
    },
    {
     "name": "stdout",
     "output_type": "stream",
     "text": [
      "✅ Готово: data/2_test_image_embedding_001.pkl\n",
      "\n",
      "🔄 Батч 2 из 21\n"
     ]
    },
    {
     "data": {
      "application/vnd.jupyter.widget-view+json": {
       "model_id": "9bd18403e6a341f88caf36b72a1b2aad",
       "version_major": 2,
       "version_minor": 0
      },
      "text/plain": [
       "  0%|          | 0/20000 [00:00<?, ?it/s]"
      ]
     },
     "metadata": {},
     "output_type": "display_data"
    },
    {
     "name": "stdout",
     "output_type": "stream",
     "text": [
      "✅ Готово: data/2_test_image_embedding_002.pkl\n",
      "\n",
      "🔄 Батч 3 из 21\n"
     ]
    },
    {
     "data": {
      "application/vnd.jupyter.widget-view+json": {
       "model_id": "e50c5102f05b4a82880a08a429f2cb9d",
       "version_major": 2,
       "version_minor": 0
      },
      "text/plain": [
       "  0%|          | 0/20000 [00:00<?, ?it/s]"
      ]
     },
     "metadata": {},
     "output_type": "display_data"
    },
    {
     "name": "stdout",
     "output_type": "stream",
     "text": [
      "✅ Готово: data/2_test_image_embedding_003.pkl\n",
      "\n",
      "🔄 Батч 4 из 21\n"
     ]
    },
    {
     "data": {
      "application/vnd.jupyter.widget-view+json": {
       "model_id": "aa38d8b9146841719bc5037276c95bc2",
       "version_major": 2,
       "version_minor": 0
      },
      "text/plain": [
       "  0%|          | 0/20000 [00:00<?, ?it/s]"
      ]
     },
     "metadata": {},
     "output_type": "display_data"
    },
    {
     "name": "stdout",
     "output_type": "stream",
     "text": [
      "✅ Готово: data/2_test_image_embedding_004.pkl\n",
      "\n",
      "🔄 Батч 5 из 21\n"
     ]
    },
    {
     "data": {
      "application/vnd.jupyter.widget-view+json": {
       "model_id": "856b6135955940a88156ac9374f53a6f",
       "version_major": 2,
       "version_minor": 0
      },
      "text/plain": [
       "  0%|          | 0/20000 [00:00<?, ?it/s]"
      ]
     },
     "metadata": {},
     "output_type": "display_data"
    },
    {
     "name": "stdout",
     "output_type": "stream",
     "text": [
      "✅ Готово: data/2_test_image_embedding_005.pkl\n",
      "\n",
      "🔄 Батч 6 из 21\n"
     ]
    },
    {
     "data": {
      "application/vnd.jupyter.widget-view+json": {
       "model_id": "4a844567e27b435383f1b5b93d508860",
       "version_major": 2,
       "version_minor": 0
      },
      "text/plain": [
       "  0%|          | 0/20000 [00:00<?, ?it/s]"
      ]
     },
     "metadata": {},
     "output_type": "display_data"
    },
    {
     "name": "stdout",
     "output_type": "stream",
     "text": [
      "✅ Готово: data/2_test_image_embedding_006.pkl\n",
      "\n",
      "🔄 Батч 7 из 21\n"
     ]
    },
    {
     "data": {
      "application/vnd.jupyter.widget-view+json": {
       "model_id": "61af78756e5841abbe331a8681c80ece",
       "version_major": 2,
       "version_minor": 0
      },
      "text/plain": [
       "  0%|          | 0/20000 [00:00<?, ?it/s]"
      ]
     },
     "metadata": {},
     "output_type": "display_data"
    },
    {
     "name": "stdout",
     "output_type": "stream",
     "text": [
      "✅ Готово: data/2_test_image_embedding_007.pkl\n",
      "\n",
      "🔄 Батч 8 из 21\n"
     ]
    },
    {
     "data": {
      "application/vnd.jupyter.widget-view+json": {
       "model_id": "bd548a2524854672888135ff2b5e456b",
       "version_major": 2,
       "version_minor": 0
      },
      "text/plain": [
       "  0%|          | 0/20000 [00:00<?, ?it/s]"
      ]
     },
     "metadata": {},
     "output_type": "display_data"
    },
    {
     "name": "stdout",
     "output_type": "stream",
     "text": [
      "✅ Готово: data/2_test_image_embedding_008.pkl\n",
      "\n",
      "🔄 Батч 9 из 21\n"
     ]
    },
    {
     "data": {
      "application/vnd.jupyter.widget-view+json": {
       "model_id": "acb7379a7b7d4cb7bc0a38523a7ebac2",
       "version_major": 2,
       "version_minor": 0
      },
      "text/plain": [
       "  0%|          | 0/20000 [00:00<?, ?it/s]"
      ]
     },
     "metadata": {},
     "output_type": "display_data"
    },
    {
     "name": "stdout",
     "output_type": "stream",
     "text": [
      "✅ Готово: data/2_test_image_embedding_009.pkl\n",
      "\n",
      "🔄 Батч 10 из 21\n"
     ]
    },
    {
     "data": {
      "application/vnd.jupyter.widget-view+json": {
       "model_id": "fa69ba1a96584337b220d9b56885246c",
       "version_major": 2,
       "version_minor": 0
      },
      "text/plain": [
       "  0%|          | 0/20000 [00:00<?, ?it/s]"
      ]
     },
     "metadata": {},
     "output_type": "display_data"
    },
    {
     "name": "stdout",
     "output_type": "stream",
     "text": [
      "✅ Готово: data/2_test_image_embedding_010.pkl\n",
      "\n",
      "🔄 Батч 11 из 21\n"
     ]
    },
    {
     "data": {
      "application/vnd.jupyter.widget-view+json": {
       "model_id": "52caaba5caab4c0c86ecd6cff9164e80",
       "version_major": 2,
       "version_minor": 0
      },
      "text/plain": [
       "  0%|          | 0/20000 [00:00<?, ?it/s]"
      ]
     },
     "metadata": {},
     "output_type": "display_data"
    },
    {
     "name": "stdout",
     "output_type": "stream",
     "text": [
      "✅ Готово: data/2_test_image_embedding_011.pkl\n",
      "\n",
      "🔄 Батч 12 из 21\n"
     ]
    },
    {
     "data": {
      "application/vnd.jupyter.widget-view+json": {
       "model_id": "6dbf86a7bef642bda94480d93f721c28",
       "version_major": 2,
       "version_minor": 0
      },
      "text/plain": [
       "  0%|          | 0/20000 [00:00<?, ?it/s]"
      ]
     },
     "metadata": {},
     "output_type": "display_data"
    },
    {
     "name": "stdout",
     "output_type": "stream",
     "text": [
      "✅ Готово: data/2_test_image_embedding_012.pkl\n",
      "\n",
      "🔄 Батч 13 из 21\n"
     ]
    },
    {
     "data": {
      "application/vnd.jupyter.widget-view+json": {
       "model_id": "ebff05864d3347588b1a6ccfabb5ada3",
       "version_major": 2,
       "version_minor": 0
      },
      "text/plain": [
       "  0%|          | 0/20000 [00:00<?, ?it/s]"
      ]
     },
     "metadata": {},
     "output_type": "display_data"
    },
    {
     "name": "stdout",
     "output_type": "stream",
     "text": [
      "✅ Готово: data/2_test_image_embedding_013.pkl\n",
      "\n",
      "🔄 Батч 14 из 21\n"
     ]
    },
    {
     "data": {
      "application/vnd.jupyter.widget-view+json": {
       "model_id": "90e73df5ec99411ebcb31e6824acd7de",
       "version_major": 2,
       "version_minor": 0
      },
      "text/plain": [
       "  0%|          | 0/20000 [00:00<?, ?it/s]"
      ]
     },
     "metadata": {},
     "output_type": "display_data"
    },
    {
     "name": "stdout",
     "output_type": "stream",
     "text": [
      "✅ Готово: data/2_test_image_embedding_014.pkl\n",
      "\n",
      "🔄 Батч 15 из 21\n"
     ]
    },
    {
     "data": {
      "application/vnd.jupyter.widget-view+json": {
       "model_id": "8c9a9571144a404cae32b13fa3c38347",
       "version_major": 2,
       "version_minor": 0
      },
      "text/plain": [
       "  0%|          | 0/20000 [00:00<?, ?it/s]"
      ]
     },
     "metadata": {},
     "output_type": "display_data"
    },
    {
     "name": "stdout",
     "output_type": "stream",
     "text": [
      "✅ Готово: data/2_test_image_embedding_015.pkl\n",
      "\n",
      "🔄 Батч 16 из 21\n"
     ]
    },
    {
     "data": {
      "application/vnd.jupyter.widget-view+json": {
       "model_id": "b1c96341201b433794c48595e7280a16",
       "version_major": 2,
       "version_minor": 0
      },
      "text/plain": [
       "  0%|          | 0/20000 [00:00<?, ?it/s]"
      ]
     },
     "metadata": {},
     "output_type": "display_data"
    },
    {
     "name": "stdout",
     "output_type": "stream",
     "text": [
      "✅ Готово: data/2_test_image_embedding_016.pkl\n",
      "\n",
      "🔄 Батч 17 из 21\n"
     ]
    },
    {
     "data": {
      "application/vnd.jupyter.widget-view+json": {
       "model_id": "fdc9d4434b3a40e6a303b05889fc15f9",
       "version_major": 2,
       "version_minor": 0
      },
      "text/plain": [
       "  0%|          | 0/20000 [00:00<?, ?it/s]"
      ]
     },
     "metadata": {},
     "output_type": "display_data"
    },
    {
     "name": "stdout",
     "output_type": "stream",
     "text": [
      "✅ Готово: data/2_test_image_embedding_017.pkl\n",
      "\n",
      "🔄 Батч 18 из 21\n"
     ]
    },
    {
     "data": {
      "application/vnd.jupyter.widget-view+json": {
       "model_id": "2bd6d4eba1c747cb9857c569243ef1dc",
       "version_major": 2,
       "version_minor": 0
      },
      "text/plain": [
       "  0%|          | 0/20000 [00:00<?, ?it/s]"
      ]
     },
     "metadata": {},
     "output_type": "display_data"
    },
    {
     "name": "stdout",
     "output_type": "stream",
     "text": [
      "✅ Готово: data/2_test_image_embedding_018.pkl\n",
      "\n",
      "🔄 Батч 19 из 21\n"
     ]
    },
    {
     "data": {
      "application/vnd.jupyter.widget-view+json": {
       "model_id": "6accf977e9d0426daa14454400c21f16",
       "version_major": 2,
       "version_minor": 0
      },
      "text/plain": [
       "  0%|          | 0/20000 [00:00<?, ?it/s]"
      ]
     },
     "metadata": {},
     "output_type": "display_data"
    },
    {
     "name": "stdout",
     "output_type": "stream",
     "text": [
      "✅ Готово: data/2_test_image_embedding_019.pkl\n",
      "\n",
      "🔄 Батч 20 из 21\n"
     ]
    },
    {
     "data": {
      "application/vnd.jupyter.widget-view+json": {
       "model_id": "ff365b2369d14dc4a4e6205beffa10a0",
       "version_major": 2,
       "version_minor": 0
      },
      "text/plain": [
       "  0%|          | 0/20000 [00:00<?, ?it/s]"
      ]
     },
     "metadata": {},
     "output_type": "display_data"
    },
    {
     "name": "stdout",
     "output_type": "stream",
     "text": [
      "✅ Готово: data/2_test_image_embedding_020.pkl\n",
      "\n",
      "🔄 Батч 21 из 21\n"
     ]
    },
    {
     "data": {
      "application/vnd.jupyter.widget-view+json": {
       "model_id": "9ea2cdfe64394c74b05c77e2a269a7fb",
       "version_major": 2,
       "version_minor": 0
      },
      "text/plain": [
       "  0%|          | 0/3845 [00:00<?, ?it/s]"
      ]
     },
     "metadata": {},
     "output_type": "display_data"
    },
    {
     "name": "stdout",
     "output_type": "stream",
     "text": [
      "✅ Готово: data/2_test_image_embedding_021.pkl\n",
      "valid indices 403841\n"
     ]
    }
   ],
   "source": [
    "image_dataset(dataset_path, image_folder_path)"
   ]
  },
  {
   "cell_type": "markdown",
   "id": "bdc8c2ee",
   "metadata": {},
   "source": [
    "# Объединение эмбеддингов в датасет\n"
   ]
  },
  {
   "cell_type": "code",
   "execution_count": 4,
   "id": "1b63c16e",
   "metadata": {},
   "outputs": [],
   "source": [
    "def dataset_part(directory, dataset_path):\n",
    "\n",
    "    full_data = pd.DataFrame()\n",
    "\n",
    "    dataset = pd.read_parquet(dataset_path)\n",
    "    all_images_id = pd.concat([dataset['base_title_image'], dataset['cand_title_image']]).unique() # ПОлучим список ID изображений для добавления\n",
    "\n",
    "\n",
    "    for file in os.listdir(directory):\n",
    "        if file.endswith(\".pkl\"):\n",
    "            with open(Path(directory) / file, 'rb') as f:\n",
    "                data = pickle.load(f)\n",
    "            full_data = pd.concat([full_data, data], ignore_index=True)\n",
    "            del data\n",
    "        else:\n",
    "             with open(Path(directory) / file, 'rb') as f:\n",
    "                is_valid = pickle.load(f)\n",
    "\n",
    "    \n",
    "    all_data = pd.concat([pd.DataFrame({\"id\": all_images_id}), full_data], axis=1)\n",
    "    is_valid_boolean_mask = all_data['id'].isin(is_valid)\n",
    "    all_data[\"is_valid\"] = np.where(is_valid_boolean_mask, 1, 0)\n",
    "    print(f\"Part done: len {len(all_data)}\")\n",
    "\n",
    "    \n",
    "    return all_data\n",
    "\n",
    "            "
   ]
  },
  {
   "cell_type": "code",
   "execution_count": 3,
   "id": "0f43f534",
   "metadata": {},
   "outputs": [
    {
     "name": "stdout",
     "output_type": "stream",
     "text": [
      "Part done: len 651056\n",
      "Part done: len 654188\n",
      "Part done: len 665349\n",
      "Part done: len 480275\n"
     ]
    }
   ],
   "source": [
    "# Отработаем датасееты по частям и объеденим в один\n",
    "\n",
    "data1 = dataset_part(\"data/image_embedding/part_1\", 'data/train/part_1/train_part_0001.snappy.parquet')\n",
    "data2 = dataset_part(\"data/image_embedding/part_2\", 'data/train/part_2/train_part_0002.snappy.parquet')\n",
    "data_mid1 = pd.concat([data1, data2], ignore_index=True)\n",
    "\n",
    "data3 = dataset_part(\"data/image_embedding/part_3\", 'data/train/part_3/train_part_0003.snappy.parquet')\n",
    "data4 = dataset_part(\"data/image_embedding/part_4\", 'data/train/part_4/train_part_0004.snappy.parquet')\n",
    "data_mid2 = pd.concat([data3, data4], ignore_index=True)\n",
    "\n",
    "final_dataset = pd.concat([data_mid1, data_mid2], ignore_index=True)\n",
    "\n"
   ]
  },
  {
   "cell_type": "code",
   "execution_count": 4,
   "id": "7a398ad7",
   "metadata": {},
   "outputs": [
    {
     "data": {
      "text/html": [
       "<div>\n",
       "<style scoped>\n",
       "    .dataframe tbody tr th:only-of-type {\n",
       "        vertical-align: middle;\n",
       "    }\n",
       "\n",
       "    .dataframe tbody tr th {\n",
       "        vertical-align: top;\n",
       "    }\n",
       "\n",
       "    .dataframe thead th {\n",
       "        text-align: right;\n",
       "    }\n",
       "</style>\n",
       "<table border=\"1\" class=\"dataframe\">\n",
       "  <thead>\n",
       "    <tr style=\"text-align: right;\">\n",
       "      <th></th>\n",
       "      <th>id</th>\n",
       "      <th>0</th>\n",
       "      <th>1</th>\n",
       "      <th>2</th>\n",
       "      <th>3</th>\n",
       "      <th>4</th>\n",
       "      <th>5</th>\n",
       "      <th>6</th>\n",
       "      <th>7</th>\n",
       "      <th>8</th>\n",
       "      <th>...</th>\n",
       "      <th>759</th>\n",
       "      <th>760</th>\n",
       "      <th>761</th>\n",
       "      <th>762</th>\n",
       "      <th>763</th>\n",
       "      <th>764</th>\n",
       "      <th>765</th>\n",
       "      <th>766</th>\n",
       "      <th>767</th>\n",
       "      <th>is_valid</th>\n",
       "    </tr>\n",
       "  </thead>\n",
       "  <tbody>\n",
       "    <tr>\n",
       "      <th>0</th>\n",
       "      <td>40c72f08e0bb10b55e0605781481df2b5557b094aee695...</td>\n",
       "      <td>0.150431</td>\n",
       "      <td>-0.007837</td>\n",
       "      <td>-0.375743</td>\n",
       "      <td>0.185125</td>\n",
       "      <td>0.157627</td>\n",
       "      <td>0.026153</td>\n",
       "      <td>0.036855</td>\n",
       "      <td>-0.187436</td>\n",
       "      <td>0.023010</td>\n",
       "      <td>...</td>\n",
       "      <td>-0.039751</td>\n",
       "      <td>-0.162987</td>\n",
       "      <td>-0.110698</td>\n",
       "      <td>-0.009659</td>\n",
       "      <td>-0.140307</td>\n",
       "      <td>-0.046654</td>\n",
       "      <td>-0.096303</td>\n",
       "      <td>0.115212</td>\n",
       "      <td>-0.088266</td>\n",
       "      <td>1</td>\n",
       "    </tr>\n",
       "    <tr>\n",
       "      <th>1</th>\n",
       "      <td>181549e281126b799e54980db0b194918479e0db9be2ab...</td>\n",
       "      <td>0.020112</td>\n",
       "      <td>-0.172492</td>\n",
       "      <td>-0.054350</td>\n",
       "      <td>-0.069442</td>\n",
       "      <td>-0.223897</td>\n",
       "      <td>-0.038433</td>\n",
       "      <td>0.178443</td>\n",
       "      <td>0.143185</td>\n",
       "      <td>-0.192779</td>\n",
       "      <td>...</td>\n",
       "      <td>-0.018214</td>\n",
       "      <td>-0.212182</td>\n",
       "      <td>-0.201924</td>\n",
       "      <td>-0.121836</td>\n",
       "      <td>-0.055999</td>\n",
       "      <td>0.036406</td>\n",
       "      <td>-0.120529</td>\n",
       "      <td>0.130749</td>\n",
       "      <td>-0.033510</td>\n",
       "      <td>1</td>\n",
       "    </tr>\n",
       "    <tr>\n",
       "      <th>2</th>\n",
       "      <td>39ea6660f757f965e92f5d64fa70f6b52a5a1067b64e4e...</td>\n",
       "      <td>0.046536</td>\n",
       "      <td>-0.050100</td>\n",
       "      <td>-0.328599</td>\n",
       "      <td>-0.017658</td>\n",
       "      <td>0.033470</td>\n",
       "      <td>0.071916</td>\n",
       "      <td>-0.264820</td>\n",
       "      <td>-0.045898</td>\n",
       "      <td>0.104968</td>\n",
       "      <td>...</td>\n",
       "      <td>0.038837</td>\n",
       "      <td>-0.031744</td>\n",
       "      <td>-0.380836</td>\n",
       "      <td>0.144741</td>\n",
       "      <td>0.117165</td>\n",
       "      <td>-0.033304</td>\n",
       "      <td>0.213437</td>\n",
       "      <td>-0.267944</td>\n",
       "      <td>0.181924</td>\n",
       "      <td>1</td>\n",
       "    </tr>\n",
       "    <tr>\n",
       "      <th>3</th>\n",
       "      <td>1db6f93576bc904cf2c79b2c9783123648c7b7b9d83d2a...</td>\n",
       "      <td>0.045596</td>\n",
       "      <td>-0.369093</td>\n",
       "      <td>0.255815</td>\n",
       "      <td>-0.155695</td>\n",
       "      <td>-0.228253</td>\n",
       "      <td>-0.016100</td>\n",
       "      <td>-0.070344</td>\n",
       "      <td>0.100765</td>\n",
       "      <td>-0.118112</td>\n",
       "      <td>...</td>\n",
       "      <td>0.122302</td>\n",
       "      <td>0.124594</td>\n",
       "      <td>-0.131536</td>\n",
       "      <td>0.142997</td>\n",
       "      <td>0.365038</td>\n",
       "      <td>0.013494</td>\n",
       "      <td>-0.057187</td>\n",
       "      <td>0.001802</td>\n",
       "      <td>-0.139450</td>\n",
       "      <td>1</td>\n",
       "    </tr>\n",
       "    <tr>\n",
       "      <th>4</th>\n",
       "      <td>79bd9fea45264fa0fb4eaa33c227d3d16646ffd25432ae...</td>\n",
       "      <td>0.257884</td>\n",
       "      <td>0.081383</td>\n",
       "      <td>-0.095372</td>\n",
       "      <td>-0.189768</td>\n",
       "      <td>-0.328686</td>\n",
       "      <td>-0.057056</td>\n",
       "      <td>0.151580</td>\n",
       "      <td>0.089236</td>\n",
       "      <td>-0.192927</td>\n",
       "      <td>...</td>\n",
       "      <td>0.144585</td>\n",
       "      <td>0.313195</td>\n",
       "      <td>0.267563</td>\n",
       "      <td>0.020021</td>\n",
       "      <td>0.098842</td>\n",
       "      <td>-0.256244</td>\n",
       "      <td>0.221498</td>\n",
       "      <td>-0.067899</td>\n",
       "      <td>0.482283</td>\n",
       "      <td>1</td>\n",
       "    </tr>\n",
       "    <tr>\n",
       "      <th>...</th>\n",
       "      <td>...</td>\n",
       "      <td>...</td>\n",
       "      <td>...</td>\n",
       "      <td>...</td>\n",
       "      <td>...</td>\n",
       "      <td>...</td>\n",
       "      <td>...</td>\n",
       "      <td>...</td>\n",
       "      <td>...</td>\n",
       "      <td>...</td>\n",
       "      <td>...</td>\n",
       "      <td>...</td>\n",
       "      <td>...</td>\n",
       "      <td>...</td>\n",
       "      <td>...</td>\n",
       "      <td>...</td>\n",
       "      <td>...</td>\n",
       "      <td>...</td>\n",
       "      <td>...</td>\n",
       "      <td>...</td>\n",
       "      <td>...</td>\n",
       "    </tr>\n",
       "    <tr>\n",
       "      <th>2450863</th>\n",
       "      <td>0a78093cc0d94d33904b64d218b6dceffc7b0091323389...</td>\n",
       "      <td>-0.090081</td>\n",
       "      <td>-0.282590</td>\n",
       "      <td>0.247564</td>\n",
       "      <td>-0.009835</td>\n",
       "      <td>0.000436</td>\n",
       "      <td>-0.182356</td>\n",
       "      <td>-0.220152</td>\n",
       "      <td>-0.188813</td>\n",
       "      <td>0.057753</td>\n",
       "      <td>...</td>\n",
       "      <td>0.015113</td>\n",
       "      <td>-0.239260</td>\n",
       "      <td>-0.103945</td>\n",
       "      <td>-0.125620</td>\n",
       "      <td>0.110807</td>\n",
       "      <td>-0.035248</td>\n",
       "      <td>0.199342</td>\n",
       "      <td>-0.194876</td>\n",
       "      <td>0.075555</td>\n",
       "      <td>1</td>\n",
       "    </tr>\n",
       "    <tr>\n",
       "      <th>2450864</th>\n",
       "      <td>c75dbb144761c5a56422a4a0db7f3bda3cabc06cbe858e...</td>\n",
       "      <td>-0.152420</td>\n",
       "      <td>-0.117375</td>\n",
       "      <td>0.027629</td>\n",
       "      <td>-0.190627</td>\n",
       "      <td>-0.538336</td>\n",
       "      <td>0.109655</td>\n",
       "      <td>0.113162</td>\n",
       "      <td>-0.196852</td>\n",
       "      <td>0.057608</td>\n",
       "      <td>...</td>\n",
       "      <td>0.078428</td>\n",
       "      <td>0.316647</td>\n",
       "      <td>-0.016991</td>\n",
       "      <td>0.133258</td>\n",
       "      <td>-0.139889</td>\n",
       "      <td>0.039521</td>\n",
       "      <td>-0.098749</td>\n",
       "      <td>0.347209</td>\n",
       "      <td>0.004086</td>\n",
       "      <td>1</td>\n",
       "    </tr>\n",
       "    <tr>\n",
       "      <th>2450865</th>\n",
       "      <td>4ec42c9b1f9fecc1850357bda3b4f69378d7c93c4a6a05...</td>\n",
       "      <td>0.054741</td>\n",
       "      <td>-0.030969</td>\n",
       "      <td>-0.051611</td>\n",
       "      <td>-0.332978</td>\n",
       "      <td>-0.395662</td>\n",
       "      <td>-0.295773</td>\n",
       "      <td>-0.283911</td>\n",
       "      <td>-0.050584</td>\n",
       "      <td>-0.074790</td>\n",
       "      <td>...</td>\n",
       "      <td>0.072147</td>\n",
       "      <td>0.370626</td>\n",
       "      <td>-0.258408</td>\n",
       "      <td>-0.142357</td>\n",
       "      <td>0.192198</td>\n",
       "      <td>-0.255237</td>\n",
       "      <td>-0.133809</td>\n",
       "      <td>0.242901</td>\n",
       "      <td>0.202796</td>\n",
       "      <td>1</td>\n",
       "    </tr>\n",
       "    <tr>\n",
       "      <th>2450866</th>\n",
       "      <td>3099d8c28a8686fa9ae41269be64eed3cb2a6708ce0571...</td>\n",
       "      <td>-0.061228</td>\n",
       "      <td>-0.102187</td>\n",
       "      <td>0.208102</td>\n",
       "      <td>-0.159028</td>\n",
       "      <td>-0.094588</td>\n",
       "      <td>0.049488</td>\n",
       "      <td>-0.289952</td>\n",
       "      <td>-0.130007</td>\n",
       "      <td>0.278366</td>\n",
       "      <td>...</td>\n",
       "      <td>-0.003306</td>\n",
       "      <td>0.014440</td>\n",
       "      <td>-0.081698</td>\n",
       "      <td>0.242919</td>\n",
       "      <td>-0.103588</td>\n",
       "      <td>-0.012039</td>\n",
       "      <td>0.036888</td>\n",
       "      <td>0.219381</td>\n",
       "      <td>0.078352</td>\n",
       "      <td>1</td>\n",
       "    </tr>\n",
       "    <tr>\n",
       "      <th>2450867</th>\n",
       "      <td>690b80ae8cce943145e2622bb5e979c8619f097b78cbcc...</td>\n",
       "      <td>0.084627</td>\n",
       "      <td>-0.035604</td>\n",
       "      <td>0.478272</td>\n",
       "      <td>-0.232252</td>\n",
       "      <td>0.165819</td>\n",
       "      <td>-0.290401</td>\n",
       "      <td>0.017278</td>\n",
       "      <td>0.108365</td>\n",
       "      <td>0.299273</td>\n",
       "      <td>...</td>\n",
       "      <td>0.079930</td>\n",
       "      <td>0.138911</td>\n",
       "      <td>-0.443619</td>\n",
       "      <td>0.249782</td>\n",
       "      <td>-0.164882</td>\n",
       "      <td>-0.103180</td>\n",
       "      <td>0.158918</td>\n",
       "      <td>0.204835</td>\n",
       "      <td>0.438160</td>\n",
       "      <td>1</td>\n",
       "    </tr>\n",
       "  </tbody>\n",
       "</table>\n",
       "<p>2450868 rows × 770 columns</p>\n",
       "</div>"
      ],
      "text/plain": [
       "                                                        id         0  \\\n",
       "0        40c72f08e0bb10b55e0605781481df2b5557b094aee695...  0.150431   \n",
       "1        181549e281126b799e54980db0b194918479e0db9be2ab...  0.020112   \n",
       "2        39ea6660f757f965e92f5d64fa70f6b52a5a1067b64e4e...  0.046536   \n",
       "3        1db6f93576bc904cf2c79b2c9783123648c7b7b9d83d2a...  0.045596   \n",
       "4        79bd9fea45264fa0fb4eaa33c227d3d16646ffd25432ae...  0.257884   \n",
       "...                                                    ...       ...   \n",
       "2450863  0a78093cc0d94d33904b64d218b6dceffc7b0091323389... -0.090081   \n",
       "2450864  c75dbb144761c5a56422a4a0db7f3bda3cabc06cbe858e... -0.152420   \n",
       "2450865  4ec42c9b1f9fecc1850357bda3b4f69378d7c93c4a6a05...  0.054741   \n",
       "2450866  3099d8c28a8686fa9ae41269be64eed3cb2a6708ce0571... -0.061228   \n",
       "2450867  690b80ae8cce943145e2622bb5e979c8619f097b78cbcc...  0.084627   \n",
       "\n",
       "                1         2         3         4         5         6         7  \\\n",
       "0       -0.007837 -0.375743  0.185125  0.157627  0.026153  0.036855 -0.187436   \n",
       "1       -0.172492 -0.054350 -0.069442 -0.223897 -0.038433  0.178443  0.143185   \n",
       "2       -0.050100 -0.328599 -0.017658  0.033470  0.071916 -0.264820 -0.045898   \n",
       "3       -0.369093  0.255815 -0.155695 -0.228253 -0.016100 -0.070344  0.100765   \n",
       "4        0.081383 -0.095372 -0.189768 -0.328686 -0.057056  0.151580  0.089236   \n",
       "...           ...       ...       ...       ...       ...       ...       ...   \n",
       "2450863 -0.282590  0.247564 -0.009835  0.000436 -0.182356 -0.220152 -0.188813   \n",
       "2450864 -0.117375  0.027629 -0.190627 -0.538336  0.109655  0.113162 -0.196852   \n",
       "2450865 -0.030969 -0.051611 -0.332978 -0.395662 -0.295773 -0.283911 -0.050584   \n",
       "2450866 -0.102187  0.208102 -0.159028 -0.094588  0.049488 -0.289952 -0.130007   \n",
       "2450867 -0.035604  0.478272 -0.232252  0.165819 -0.290401  0.017278  0.108365   \n",
       "\n",
       "                8  ...       759       760       761       762       763  \\\n",
       "0        0.023010  ... -0.039751 -0.162987 -0.110698 -0.009659 -0.140307   \n",
       "1       -0.192779  ... -0.018214 -0.212182 -0.201924 -0.121836 -0.055999   \n",
       "2        0.104968  ...  0.038837 -0.031744 -0.380836  0.144741  0.117165   \n",
       "3       -0.118112  ...  0.122302  0.124594 -0.131536  0.142997  0.365038   \n",
       "4       -0.192927  ...  0.144585  0.313195  0.267563  0.020021  0.098842   \n",
       "...           ...  ...       ...       ...       ...       ...       ...   \n",
       "2450863  0.057753  ...  0.015113 -0.239260 -0.103945 -0.125620  0.110807   \n",
       "2450864  0.057608  ...  0.078428  0.316647 -0.016991  0.133258 -0.139889   \n",
       "2450865 -0.074790  ...  0.072147  0.370626 -0.258408 -0.142357  0.192198   \n",
       "2450866  0.278366  ... -0.003306  0.014440 -0.081698  0.242919 -0.103588   \n",
       "2450867  0.299273  ...  0.079930  0.138911 -0.443619  0.249782 -0.164882   \n",
       "\n",
       "              764       765       766       767  is_valid  \n",
       "0       -0.046654 -0.096303  0.115212 -0.088266         1  \n",
       "1        0.036406 -0.120529  0.130749 -0.033510         1  \n",
       "2       -0.033304  0.213437 -0.267944  0.181924         1  \n",
       "3        0.013494 -0.057187  0.001802 -0.139450         1  \n",
       "4       -0.256244  0.221498 -0.067899  0.482283         1  \n",
       "...           ...       ...       ...       ...       ...  \n",
       "2450863 -0.035248  0.199342 -0.194876  0.075555         1  \n",
       "2450864  0.039521 -0.098749  0.347209  0.004086         1  \n",
       "2450865 -0.255237 -0.133809  0.242901  0.202796         1  \n",
       "2450866 -0.012039  0.036888  0.219381  0.078352         1  \n",
       "2450867 -0.103180  0.158918  0.204835  0.438160         1  \n",
       "\n",
       "[2450868 rows x 770 columns]"
      ]
     },
     "execution_count": 4,
     "metadata": {},
     "output_type": "execute_result"
    }
   ],
   "source": [
    "final_dataset"
   ]
  },
  {
   "cell_type": "code",
   "execution_count": 6,
   "id": "6a935c4a",
   "metadata": {},
   "outputs": [],
   "source": [
    "final_dataset['is_valid'] = final_dataset['is_valid'].astype(\"int8\")"
   ]
  },
  {
   "cell_type": "code",
   "execution_count": 8,
   "id": "bc6ced21",
   "metadata": {},
   "outputs": [],
   "source": [
    "final_dataset.to_parquet('image_dataset.parquet', index=False)"
   ]
  },
  {
   "cell_type": "markdown",
   "id": "e19e3540",
   "metadata": {},
   "source": [
    "# Для test выборки"
   ]
  },
  {
   "cell_type": "code",
   "execution_count": null,
   "id": "13f92ccb",
   "metadata": {},
   "outputs": [
    {
     "name": "stdout",
     "output_type": "stream",
     "text": [
      "Part done: len 403831\n",
      "Part done: len 403845\n"
     ]
    }
   ],
   "source": [
    "data1 = dataset_part(\"data/test_image/part_1\", 'data/test/test_part_0001.snappy.parquet')\n",
    "data2 = dataset_part(\"data/test_image/part_2\", 'data/test/test_part_0002.snappy.parquet')\n",
    "\n",
    "final_dataset = pd.concat([data1, data2], ignore_index=True)\n"
   ]
  },
  {
   "cell_type": "code",
   "execution_count": 6,
   "id": "0f1ef312",
   "metadata": {},
   "outputs": [
    {
     "data": {
      "text/html": [
       "<div>\n",
       "<style scoped>\n",
       "    .dataframe tbody tr th:only-of-type {\n",
       "        vertical-align: middle;\n",
       "    }\n",
       "\n",
       "    .dataframe tbody tr th {\n",
       "        vertical-align: top;\n",
       "    }\n",
       "\n",
       "    .dataframe thead th {\n",
       "        text-align: right;\n",
       "    }\n",
       "</style>\n",
       "<table border=\"1\" class=\"dataframe\">\n",
       "  <thead>\n",
       "    <tr style=\"text-align: right;\">\n",
       "      <th></th>\n",
       "      <th>id</th>\n",
       "      <th>0</th>\n",
       "      <th>1</th>\n",
       "      <th>2</th>\n",
       "      <th>3</th>\n",
       "      <th>4</th>\n",
       "      <th>5</th>\n",
       "      <th>6</th>\n",
       "      <th>7</th>\n",
       "      <th>8</th>\n",
       "      <th>...</th>\n",
       "      <th>759</th>\n",
       "      <th>760</th>\n",
       "      <th>761</th>\n",
       "      <th>762</th>\n",
       "      <th>763</th>\n",
       "      <th>764</th>\n",
       "      <th>765</th>\n",
       "      <th>766</th>\n",
       "      <th>767</th>\n",
       "      <th>is_valid</th>\n",
       "    </tr>\n",
       "  </thead>\n",
       "  <tbody>\n",
       "    <tr>\n",
       "      <th>0</th>\n",
       "      <td>cfc47375008a976fda632ffdd07d5d5218adc8f9b41a13...</td>\n",
       "      <td>-0.053470</td>\n",
       "      <td>-0.376845</td>\n",
       "      <td>0.029403</td>\n",
       "      <td>0.138460</td>\n",
       "      <td>0.081305</td>\n",
       "      <td>0.143291</td>\n",
       "      <td>-0.384077</td>\n",
       "      <td>0.290037</td>\n",
       "      <td>-0.103400</td>\n",
       "      <td>...</td>\n",
       "      <td>0.090915</td>\n",
       "      <td>-0.091706</td>\n",
       "      <td>-0.209423</td>\n",
       "      <td>-0.106779</td>\n",
       "      <td>0.148734</td>\n",
       "      <td>0.135629</td>\n",
       "      <td>0.077363</td>\n",
       "      <td>0.143927</td>\n",
       "      <td>0.349552</td>\n",
       "      <td>1</td>\n",
       "    </tr>\n",
       "    <tr>\n",
       "      <th>1</th>\n",
       "      <td>9efcb5c59529a7a95f393842ca482d14f989e478a602bf...</td>\n",
       "      <td>0.139880</td>\n",
       "      <td>-0.030384</td>\n",
       "      <td>-0.171219</td>\n",
       "      <td>0.354083</td>\n",
       "      <td>-0.237094</td>\n",
       "      <td>0.250550</td>\n",
       "      <td>0.013904</td>\n",
       "      <td>0.092169</td>\n",
       "      <td>0.255578</td>\n",
       "      <td>...</td>\n",
       "      <td>0.060941</td>\n",
       "      <td>0.173254</td>\n",
       "      <td>-0.456635</td>\n",
       "      <td>-0.081369</td>\n",
       "      <td>-0.561777</td>\n",
       "      <td>0.128867</td>\n",
       "      <td>0.299771</td>\n",
       "      <td>0.286959</td>\n",
       "      <td>-0.044755</td>\n",
       "      <td>1</td>\n",
       "    </tr>\n",
       "    <tr>\n",
       "      <th>2</th>\n",
       "      <td>434f5a021df1726564bb6176ca0fc2a5cba252a0af036a...</td>\n",
       "      <td>0.273737</td>\n",
       "      <td>0.118470</td>\n",
       "      <td>-0.308663</td>\n",
       "      <td>-0.089739</td>\n",
       "      <td>-0.470641</td>\n",
       "      <td>0.309041</td>\n",
       "      <td>0.293790</td>\n",
       "      <td>0.226620</td>\n",
       "      <td>0.063794</td>\n",
       "      <td>...</td>\n",
       "      <td>0.128215</td>\n",
       "      <td>0.080217</td>\n",
       "      <td>0.005760</td>\n",
       "      <td>0.260156</td>\n",
       "      <td>-0.187692</td>\n",
       "      <td>0.006975</td>\n",
       "      <td>-0.028788</td>\n",
       "      <td>-0.345603</td>\n",
       "      <td>-0.091642</td>\n",
       "      <td>1</td>\n",
       "    </tr>\n",
       "    <tr>\n",
       "      <th>3</th>\n",
       "      <td>e0662ceaf20ca2eaa48528688e8888bad68bf207c5a22d...</td>\n",
       "      <td>-0.221435</td>\n",
       "      <td>0.103587</td>\n",
       "      <td>-0.232625</td>\n",
       "      <td>0.066806</td>\n",
       "      <td>-0.090547</td>\n",
       "      <td>0.209647</td>\n",
       "      <td>0.057388</td>\n",
       "      <td>-0.192186</td>\n",
       "      <td>-0.033715</td>\n",
       "      <td>...</td>\n",
       "      <td>0.044297</td>\n",
       "      <td>-0.086333</td>\n",
       "      <td>0.037652</td>\n",
       "      <td>0.282149</td>\n",
       "      <td>-0.261861</td>\n",
       "      <td>-0.078956</td>\n",
       "      <td>-0.176428</td>\n",
       "      <td>-0.255011</td>\n",
       "      <td>-0.229893</td>\n",
       "      <td>1</td>\n",
       "    </tr>\n",
       "    <tr>\n",
       "      <th>4</th>\n",
       "      <td>7a2e5d0dd1a293feb77bf8c17659df6f3e9217059c6e8f...</td>\n",
       "      <td>0.138452</td>\n",
       "      <td>-0.148682</td>\n",
       "      <td>-0.021246</td>\n",
       "      <td>-0.028641</td>\n",
       "      <td>0.029578</td>\n",
       "      <td>-0.066481</td>\n",
       "      <td>-0.059650</td>\n",
       "      <td>0.054874</td>\n",
       "      <td>0.070609</td>\n",
       "      <td>...</td>\n",
       "      <td>0.045735</td>\n",
       "      <td>0.072206</td>\n",
       "      <td>0.174371</td>\n",
       "      <td>-0.312135</td>\n",
       "      <td>0.493590</td>\n",
       "      <td>-0.130459</td>\n",
       "      <td>0.121607</td>\n",
       "      <td>0.105870</td>\n",
       "      <td>-0.104576</td>\n",
       "      <td>1</td>\n",
       "    </tr>\n",
       "    <tr>\n",
       "      <th>...</th>\n",
       "      <td>...</td>\n",
       "      <td>...</td>\n",
       "      <td>...</td>\n",
       "      <td>...</td>\n",
       "      <td>...</td>\n",
       "      <td>...</td>\n",
       "      <td>...</td>\n",
       "      <td>...</td>\n",
       "      <td>...</td>\n",
       "      <td>...</td>\n",
       "      <td>...</td>\n",
       "      <td>...</td>\n",
       "      <td>...</td>\n",
       "      <td>...</td>\n",
       "      <td>...</td>\n",
       "      <td>...</td>\n",
       "      <td>...</td>\n",
       "      <td>...</td>\n",
       "      <td>...</td>\n",
       "      <td>...</td>\n",
       "      <td>...</td>\n",
       "    </tr>\n",
       "    <tr>\n",
       "      <th>807671</th>\n",
       "      <td>989e74f5a7bf6d3755483ce4cf6a1029eb346d78c377fc...</td>\n",
       "      <td>0.151940</td>\n",
       "      <td>-0.145680</td>\n",
       "      <td>-0.309811</td>\n",
       "      <td>0.059615</td>\n",
       "      <td>-0.381078</td>\n",
       "      <td>0.218436</td>\n",
       "      <td>-0.341084</td>\n",
       "      <td>-0.010255</td>\n",
       "      <td>0.062423</td>\n",
       "      <td>...</td>\n",
       "      <td>0.047976</td>\n",
       "      <td>-0.161501</td>\n",
       "      <td>0.009639</td>\n",
       "      <td>0.219280</td>\n",
       "      <td>0.214207</td>\n",
       "      <td>-0.177815</td>\n",
       "      <td>0.013626</td>\n",
       "      <td>-0.133731</td>\n",
       "      <td>-0.000886</td>\n",
       "      <td>1</td>\n",
       "    </tr>\n",
       "    <tr>\n",
       "      <th>807672</th>\n",
       "      <td>d2f92e219d383b88d9d7d0055bb849e41deab388d5e9a4...</td>\n",
       "      <td>-0.119062</td>\n",
       "      <td>0.103118</td>\n",
       "      <td>-0.086583</td>\n",
       "      <td>-0.002577</td>\n",
       "      <td>-0.237752</td>\n",
       "      <td>0.143954</td>\n",
       "      <td>-0.138608</td>\n",
       "      <td>0.316920</td>\n",
       "      <td>-0.344482</td>\n",
       "      <td>...</td>\n",
       "      <td>-0.043116</td>\n",
       "      <td>0.147337</td>\n",
       "      <td>0.121185</td>\n",
       "      <td>0.216853</td>\n",
       "      <td>0.083281</td>\n",
       "      <td>-0.256460</td>\n",
       "      <td>-0.219148</td>\n",
       "      <td>0.046884</td>\n",
       "      <td>0.240852</td>\n",
       "      <td>1</td>\n",
       "    </tr>\n",
       "    <tr>\n",
       "      <th>807673</th>\n",
       "      <td>d0cfa504ff12aaaa21bd1e5b77304092397405eac307e6...</td>\n",
       "      <td>0.030072</td>\n",
       "      <td>-0.515179</td>\n",
       "      <td>0.056804</td>\n",
       "      <td>-0.011981</td>\n",
       "      <td>-0.167763</td>\n",
       "      <td>0.051317</td>\n",
       "      <td>-0.007666</td>\n",
       "      <td>0.070439</td>\n",
       "      <td>-0.033652</td>\n",
       "      <td>...</td>\n",
       "      <td>0.024333</td>\n",
       "      <td>-0.050354</td>\n",
       "      <td>0.061658</td>\n",
       "      <td>0.223499</td>\n",
       "      <td>0.249443</td>\n",
       "      <td>0.021944</td>\n",
       "      <td>-0.097513</td>\n",
       "      <td>-0.366735</td>\n",
       "      <td>0.261194</td>\n",
       "      <td>1</td>\n",
       "    </tr>\n",
       "    <tr>\n",
       "      <th>807674</th>\n",
       "      <td>8a5a2dd89eff32af20a94b5b91eb6874cf9c3b56d4b3c3...</td>\n",
       "      <td>0.055032</td>\n",
       "      <td>-0.009986</td>\n",
       "      <td>0.341586</td>\n",
       "      <td>-0.403560</td>\n",
       "      <td>-0.059526</td>\n",
       "      <td>0.149128</td>\n",
       "      <td>0.166626</td>\n",
       "      <td>-0.123529</td>\n",
       "      <td>0.176064</td>\n",
       "      <td>...</td>\n",
       "      <td>0.072517</td>\n",
       "      <td>0.038852</td>\n",
       "      <td>-0.034587</td>\n",
       "      <td>0.169669</td>\n",
       "      <td>0.019322</td>\n",
       "      <td>-0.031343</td>\n",
       "      <td>-0.501698</td>\n",
       "      <td>0.111718</td>\n",
       "      <td>0.357918</td>\n",
       "      <td>1</td>\n",
       "    </tr>\n",
       "    <tr>\n",
       "      <th>807675</th>\n",
       "      <td>12d79299d7027b5190df262aed48215feed0011d6b2631...</td>\n",
       "      <td>0.029236</td>\n",
       "      <td>0.065761</td>\n",
       "      <td>-0.302394</td>\n",
       "      <td>0.058362</td>\n",
       "      <td>-0.045127</td>\n",
       "      <td>-0.032708</td>\n",
       "      <td>-0.134484</td>\n",
       "      <td>-0.101768</td>\n",
       "      <td>0.030261</td>\n",
       "      <td>...</td>\n",
       "      <td>-0.034727</td>\n",
       "      <td>-0.063589</td>\n",
       "      <td>-0.039055</td>\n",
       "      <td>-0.174415</td>\n",
       "      <td>-0.046690</td>\n",
       "      <td>-0.272578</td>\n",
       "      <td>0.009015</td>\n",
       "      <td>0.168444</td>\n",
       "      <td>0.018999</td>\n",
       "      <td>1</td>\n",
       "    </tr>\n",
       "  </tbody>\n",
       "</table>\n",
       "<p>807676 rows × 770 columns</p>\n",
       "</div>"
      ],
      "text/plain": [
       "                                                       id         0         1  \\\n",
       "0       cfc47375008a976fda632ffdd07d5d5218adc8f9b41a13... -0.053470 -0.376845   \n",
       "1       9efcb5c59529a7a95f393842ca482d14f989e478a602bf...  0.139880 -0.030384   \n",
       "2       434f5a021df1726564bb6176ca0fc2a5cba252a0af036a...  0.273737  0.118470   \n",
       "3       e0662ceaf20ca2eaa48528688e8888bad68bf207c5a22d... -0.221435  0.103587   \n",
       "4       7a2e5d0dd1a293feb77bf8c17659df6f3e9217059c6e8f...  0.138452 -0.148682   \n",
       "...                                                   ...       ...       ...   \n",
       "807671  989e74f5a7bf6d3755483ce4cf6a1029eb346d78c377fc...  0.151940 -0.145680   \n",
       "807672  d2f92e219d383b88d9d7d0055bb849e41deab388d5e9a4... -0.119062  0.103118   \n",
       "807673  d0cfa504ff12aaaa21bd1e5b77304092397405eac307e6...  0.030072 -0.515179   \n",
       "807674  8a5a2dd89eff32af20a94b5b91eb6874cf9c3b56d4b3c3...  0.055032 -0.009986   \n",
       "807675  12d79299d7027b5190df262aed48215feed0011d6b2631...  0.029236  0.065761   \n",
       "\n",
       "               2         3         4         5         6         7         8  \\\n",
       "0       0.029403  0.138460  0.081305  0.143291 -0.384077  0.290037 -0.103400   \n",
       "1      -0.171219  0.354083 -0.237094  0.250550  0.013904  0.092169  0.255578   \n",
       "2      -0.308663 -0.089739 -0.470641  0.309041  0.293790  0.226620  0.063794   \n",
       "3      -0.232625  0.066806 -0.090547  0.209647  0.057388 -0.192186 -0.033715   \n",
       "4      -0.021246 -0.028641  0.029578 -0.066481 -0.059650  0.054874  0.070609   \n",
       "...          ...       ...       ...       ...       ...       ...       ...   \n",
       "807671 -0.309811  0.059615 -0.381078  0.218436 -0.341084 -0.010255  0.062423   \n",
       "807672 -0.086583 -0.002577 -0.237752  0.143954 -0.138608  0.316920 -0.344482   \n",
       "807673  0.056804 -0.011981 -0.167763  0.051317 -0.007666  0.070439 -0.033652   \n",
       "807674  0.341586 -0.403560 -0.059526  0.149128  0.166626 -0.123529  0.176064   \n",
       "807675 -0.302394  0.058362 -0.045127 -0.032708 -0.134484 -0.101768  0.030261   \n",
       "\n",
       "        ...       759       760       761       762       763       764  \\\n",
       "0       ...  0.090915 -0.091706 -0.209423 -0.106779  0.148734  0.135629   \n",
       "1       ...  0.060941  0.173254 -0.456635 -0.081369 -0.561777  0.128867   \n",
       "2       ...  0.128215  0.080217  0.005760  0.260156 -0.187692  0.006975   \n",
       "3       ...  0.044297 -0.086333  0.037652  0.282149 -0.261861 -0.078956   \n",
       "4       ...  0.045735  0.072206  0.174371 -0.312135  0.493590 -0.130459   \n",
       "...     ...       ...       ...       ...       ...       ...       ...   \n",
       "807671  ...  0.047976 -0.161501  0.009639  0.219280  0.214207 -0.177815   \n",
       "807672  ... -0.043116  0.147337  0.121185  0.216853  0.083281 -0.256460   \n",
       "807673  ...  0.024333 -0.050354  0.061658  0.223499  0.249443  0.021944   \n",
       "807674  ...  0.072517  0.038852 -0.034587  0.169669  0.019322 -0.031343   \n",
       "807675  ... -0.034727 -0.063589 -0.039055 -0.174415 -0.046690 -0.272578   \n",
       "\n",
       "             765       766       767  is_valid  \n",
       "0       0.077363  0.143927  0.349552         1  \n",
       "1       0.299771  0.286959 -0.044755         1  \n",
       "2      -0.028788 -0.345603 -0.091642         1  \n",
       "3      -0.176428 -0.255011 -0.229893         1  \n",
       "4       0.121607  0.105870 -0.104576         1  \n",
       "...          ...       ...       ...       ...  \n",
       "807671  0.013626 -0.133731 -0.000886         1  \n",
       "807672 -0.219148  0.046884  0.240852         1  \n",
       "807673 -0.097513 -0.366735  0.261194         1  \n",
       "807674 -0.501698  0.111718  0.357918         1  \n",
       "807675  0.009015  0.168444  0.018999         1  \n",
       "\n",
       "[807676 rows x 770 columns]"
      ]
     },
     "execution_count": 6,
     "metadata": {},
     "output_type": "execute_result"
    }
   ],
   "source": [
    "final_dataset"
   ]
  },
  {
   "cell_type": "code",
   "execution_count": null,
   "id": "3b2633cd",
   "metadata": {},
   "outputs": [
    {
     "ename": "",
     "evalue": "",
     "output_type": "error",
     "traceback": [
      "\u001b[1;31mThe Kernel crashed while executing code in the current cell or a previous cell. \n",
      "\u001b[1;31mPlease review the code in the cell(s) to identify a possible cause of the failure. \n",
      "\u001b[1;31mClick <a href='https://aka.ms/vscodeJupyterKernelCrash'>here</a> for more info. \n",
      "\u001b[1;31mView Jupyter <a href='command:jupyter.viewOutput'>log</a> for further details."
     ]
    }
   ],
   "source": [
    "final_dataset.to_parquet('test_image_dataset.parquet', index=False)"
   ]
  }
 ],
 "metadata": {
  "kernelspec": {
   "display_name": "avito-ml-py3.11 (3.11.8)",
   "language": "python",
   "name": "python3"
  },
  "language_info": {
   "codemirror_mode": {
    "name": "ipython",
    "version": 3
   },
   "file_extension": ".py",
   "mimetype": "text/x-python",
   "name": "python",
   "nbconvert_exporter": "python",
   "pygments_lexer": "ipython3",
   "version": "3.11.8"
  }
 },
 "nbformat": 4,
 "nbformat_minor": 5
}
