{
 "cells": [
  {
   "cell_type": "markdown",
   "metadata": {
    "id": "9zIN_qMuMBqx"
   },
   "source": [
    "# Import"
   ]
  },
  {
   "cell_type": "code",
   "execution_count": null,
   "metadata": {
    "id": "leEFKlJyJ5zk"
   },
   "outputs": [],
   "source": [
    "import pandas as pd\n",
    "import numpy as np\n",
    "from scipy.stats import chi2_contingency\n",
    "from sklearn.manifold import TSNE\n",
    "\n",
    "import re\n",
    "\n",
    "import matplotlib.pyplot as plt\n",
    "import seaborn as sns\n",
    "\n",
    "import warnings\n",
    "warnings.filterwarnings('ignore')"
   ]
  },
  {
   "cell_type": "code",
   "execution_count": null,
   "metadata": {
    "id": "_V88kgiJKxTq"
   },
   "outputs": [],
   "source": [
    "data1 = pd.read_parquet('../data/train_part_0001.snappy.parquet')"
   ]
  },
  {
   "cell_type": "code",
   "execution_count": null,
   "metadata": {},
   "outputs": [],
   "source": [
    "data2 = pd.read_parquet('../data/train_part_0002.snappy.parquet')"
   ]
  },
  {
   "cell_type": "code",
   "execution_count": null,
   "metadata": {},
   "outputs": [],
   "source": [
    "data3 = pd.read_parquet('../data/train_part_0003.snappy.parquet')"
   ]
  },
  {
   "cell_type": "code",
   "execution_count": null,
   "metadata": {},
   "outputs": [],
   "source": [
    "data4 = pd.read_parquet('../data/train_part_0004.snappy.parquet')"
   ]
  },
  {
   "cell_type": "code",
   "execution_count": null,
   "metadata": {},
   "outputs": [],
   "source": [
    "data = pd.concat([data1, data2, data3, data4])"
   ]
  },
  {
   "cell_type": "code",
   "execution_count": 2,
   "metadata": {},
   "outputs": [],
   "source": [
    "df = pd.read_parquet('df.parquet')"
   ]
  },
  {
   "cell_type": "code",
   "execution_count": 3,
   "metadata": {},
   "outputs": [
    {
     "data": {
      "text/html": [
       "<div>\n",
       "<style scoped>\n",
       "    .dataframe tbody tr th:only-of-type {\n",
       "        vertical-align: middle;\n",
       "    }\n",
       "\n",
       "    .dataframe tbody tr th {\n",
       "        vertical-align: top;\n",
       "    }\n",
       "\n",
       "    .dataframe thead th {\n",
       "        text-align: right;\n",
       "    }\n",
       "</style>\n",
       "<table border=\"1\" class=\"dataframe\">\n",
       "  <thead>\n",
       "    <tr style=\"text-align: right;\">\n",
       "      <th></th>\n",
       "      <th>base_item_id</th>\n",
       "      <th>cand_item_id</th>\n",
       "      <th>base_title_image</th>\n",
       "      <th>cand_title_image</th>\n",
       "      <th>season_level</th>\n",
       "      <th>price_diff_log</th>\n",
       "      <th>price_diff_is_outlier</th>\n",
       "      <th>param1</th>\n",
       "      <th>count_images_diff</th>\n",
       "      <th>base_text</th>\n",
       "      <th>cand_text</th>\n",
       "      <th>target</th>\n",
       "    </tr>\n",
       "  </thead>\n",
       "  <tbody>\n",
       "    <tr>\n",
       "      <th>0</th>\n",
       "      <td>13ade32c3e614d939faad4ab68350bc52ce8848b7a64bd...</td>\n",
       "      <td>087e7f3dbec9326532f9fc784b68de294cb2d905d33bdf...</td>\n",
       "      <td>40c72f08e0bb10b55e0605781481df2b5557b094aee695...</td>\n",
       "      <td>ebc7537d69a1c8c1a6e7ea3c5b27ab4d4a360e6032d158...</td>\n",
       "      <td>mid</td>\n",
       "      <td>7.378384</td>\n",
       "      <td>False</td>\n",
       "      <td>1</td>\n",
       "      <td>0</td>\n",
       "      <td>зимние ботинки ecco. ботинки экко,униcекc,зимн...</td>\n",
       "      <td>кигуpуммии мышкa inextenso</td>\n",
       "      <td>0</td>\n",
       "    </tr>\n",
       "    <tr>\n",
       "      <th>1</th>\n",
       "      <td>13ade32c3e614d939faad4ab68350bc52ce8848b7a64bd...</td>\n",
       "      <td>5d81d4230671ed22e40ab9e05bb63fef5ad6766454714a...</td>\n",
       "      <td>40c72f08e0bb10b55e0605781481df2b5557b094aee695...</td>\n",
       "      <td>8f8e254c919ecb28a3424fde4cd1aeca75043584ddd02c...</td>\n",
       "      <td>mid</td>\n",
       "      <td>7.346655</td>\n",
       "      <td>False</td>\n",
       "      <td>1</td>\n",
       "      <td>0</td>\n",
       "      <td>зимние ботинки ecco. ботинки экко,униcекc,зимн...</td>\n",
       "      <td>штaны для девочки zara. штaны новые,ноcили пap...</td>\n",
       "      <td>0</td>\n",
       "    </tr>\n",
       "    <tr>\n",
       "      <th>2</th>\n",
       "      <td>13ade32c3e614d939faad4ab68350bc52ce8848b7a64bd...</td>\n",
       "      <td>eff6d2ef2c44dc7361d389d3a9ce243e6e3079675c0b27...</td>\n",
       "      <td>40c72f08e0bb10b55e0605781481df2b5557b094aee695...</td>\n",
       "      <td>a92f75d133c370f8b5d135d29144a69e1179d522e06d78...</td>\n",
       "      <td>mid</td>\n",
       "      <td>7.467942</td>\n",
       "      <td>False</td>\n",
       "      <td>1</td>\n",
       "      <td>1</td>\n",
       "      <td>зимние ботинки ecco. ботинки экко,униcекc,зимн...</td>\n",
       "      <td>рубaшкa acoola 152. новaя,не ноcили</td>\n",
       "      <td>0</td>\n",
       "    </tr>\n",
       "    <tr>\n",
       "      <th>3</th>\n",
       "      <td>d0b78018657dff01508954bb58d4f03f1ddf11525d8d26...</td>\n",
       "      <td>13ade32c3e614d939faad4ab68350bc52ce8848b7a64bd...</td>\n",
       "      <td>181549e281126b799e54980db0b194918479e0db9be2ab...</td>\n",
       "      <td>40c72f08e0bb10b55e0605781481df2b5557b094aee695...</td>\n",
       "      <td>mid</td>\n",
       "      <td>7.972811</td>\n",
       "      <td>False</td>\n",
       "      <td>1</td>\n",
       "      <td>1</td>\n",
       "      <td>куpткa зимняя и ветpовкa. зимнюю куpтку ноcили...</td>\n",
       "      <td>зимние ботинки ecco. ботинки экко,униcекc,зимн...</td>\n",
       "      <td>0</td>\n",
       "    </tr>\n",
       "    <tr>\n",
       "      <th>4</th>\n",
       "      <td>d0b78018657dff01508954bb58d4f03f1ddf11525d8d26...</td>\n",
       "      <td>b960b579cd9b5aebc6ac73d5042ba13ae8747490cc8a59...</td>\n",
       "      <td>181549e281126b799e54980db0b194918479e0db9be2ab...</td>\n",
       "      <td>eda895d18bd2d5bba2b277475667835d7ab7f9186ba32e...</td>\n",
       "      <td>mid</td>\n",
       "      <td>8.243019</td>\n",
       "      <td>False</td>\n",
       "      <td>1</td>\n",
       "      <td>1</td>\n",
       "      <td>куpткa зимняя и ветpовкa. зимнюю куpтку ноcили...</td>\n",
       "      <td>плaщ детcкий next. .пеpед отпpaвкой отпapю</td>\n",
       "      <td>0</td>\n",
       "    </tr>\n",
       "    <tr>\n",
       "      <th>...</th>\n",
       "      <td>...</td>\n",
       "      <td>...</td>\n",
       "      <td>...</td>\n",
       "      <td>...</td>\n",
       "      <td>...</td>\n",
       "      <td>...</td>\n",
       "      <td>...</td>\n",
       "      <td>...</td>\n",
       "      <td>...</td>\n",
       "      <td>...</td>\n",
       "      <td>...</td>\n",
       "      <td>...</td>\n",
       "    </tr>\n",
       "    <tr>\n",
       "      <th>1766123</th>\n",
       "      <td>b52354ea9479e14d53cd017521d3c2aaa84f085e67572a...</td>\n",
       "      <td>bc413741b8b4b609055fa603262561a63ddf0386781808...</td>\n",
       "      <td>cadf5577d03eee11495b3cc94a9a5b6c933685f67f166c...</td>\n",
       "      <td>0a78093cc0d94d33904b64d218b6dceffc7b0091323389...</td>\n",
       "      <td>mid</td>\n",
       "      <td>12.765695</td>\n",
       "      <td>False</td>\n",
       "      <td>1</td>\n",
       "      <td>2</td>\n",
       "      <td>шнек cкaльный d 1060 мм. шнек однозaходный cкa...</td>\n",
       "      <td>нacоc выcокого дaвления soilmec 5t400 jet grou...</td>\n",
       "      <td>0</td>\n",
       "    </tr>\n",
       "    <tr>\n",
       "      <th>1766124</th>\n",
       "      <td>b52354ea9479e14d53cd017521d3c2aaa84f085e67572a...</td>\n",
       "      <td>df8639de905b0f981444b0bfbb0a92456f87a8d4252cfe...</td>\n",
       "      <td>cadf5577d03eee11495b3cc94a9a5b6c933685f67f166c...</td>\n",
       "      <td>c75dbb144761c5a56422a4a0db7f3bda3cabc06cbe858e...</td>\n",
       "      <td>mid</td>\n",
       "      <td>12.765695</td>\n",
       "      <td>False</td>\n",
       "      <td>0</td>\n",
       "      <td>7</td>\n",
       "      <td>шнек cкaльный d 1060 мм. шнек однозaходный cкa...</td>\n",
       "      <td>резец кpуглый cкaльный 22 и дp. пpодaем cо cкл...</td>\n",
       "      <td>0</td>\n",
       "    </tr>\n",
       "    <tr>\n",
       "      <th>1766125</th>\n",
       "      <td>f70daefaf270b94174f01e5aab5b1d7d28cde06afc0dc3...</td>\n",
       "      <td>21f2388144a74d7c22e7c16b494dbe229a3656d3d85911...</td>\n",
       "      <td>e2bd3a04162aa44c944f52d4f05384e12c766a1d02bc85...</td>\n",
       "      <td>4ec42c9b1f9fecc1850357bda3b4f69378d7c93c4a6a05...</td>\n",
       "      <td>mid</td>\n",
       "      <td>0.000000</td>\n",
       "      <td>False</td>\n",
       "      <td>1</td>\n",
       "      <td>0</td>\n",
       "      <td>тpубы бетонолитные впт 245 219 мм. в нaличии н...</td>\n",
       "      <td>элacтомеpы для вибpопогpужaтелей ice 815. элac...</td>\n",
       "      <td>0</td>\n",
       "    </tr>\n",
       "    <tr>\n",
       "      <th>1766126</th>\n",
       "      <td>f70daefaf270b94174f01e5aab5b1d7d28cde06afc0dc3...</td>\n",
       "      <td>bf4eb0b9be1d734dd95afbdf48ead5f78cb195ddacc0f6...</td>\n",
       "      <td>e2bd3a04162aa44c944f52d4f05384e12c766a1d02bc85...</td>\n",
       "      <td>3099d8c28a8686fa9ae41269be64eed3cb2a6708ce0571...</td>\n",
       "      <td>mid</td>\n",
       "      <td>13.592369</td>\n",
       "      <td>False</td>\n",
       "      <td>1</td>\n",
       "      <td>1</td>\n",
       "      <td>тpубы бетонолитные впт 245 219 мм. в нaличии н...</td>\n",
       "      <td>нacоc шлaмовый гоpизонтaльный новый toyo vh15h...</td>\n",
       "      <td>0</td>\n",
       "    </tr>\n",
       "    <tr>\n",
       "      <th>1766127</th>\n",
       "      <td>f70daefaf270b94174f01e5aab5b1d7d28cde06afc0dc3...</td>\n",
       "      <td>eae31a88d737230014931d80a6d5c876dc47aa35bca233...</td>\n",
       "      <td>e2bd3a04162aa44c944f52d4f05384e12c766a1d02bc85...</td>\n",
       "      <td>690b80ae8cce943145e2622bb5e979c8619f097b78cbcc...</td>\n",
       "      <td>mid</td>\n",
       "      <td>0.000000</td>\n",
       "      <td>False</td>\n",
       "      <td>0</td>\n",
       "      <td>1</td>\n",
       "      <td>тpубы бетонолитные впт 245 219 мм. в нaличии н...</td>\n",
       "      <td>уcтaновки для зaбивaния микpоcвaй и доpожных о...</td>\n",
       "      <td>0</td>\n",
       "    </tr>\n",
       "  </tbody>\n",
       "</table>\n",
       "<p>1766128 rows × 12 columns</p>\n",
       "</div>"
      ],
      "text/plain": [
       "                                              base_item_id  \\\n",
       "0        13ade32c3e614d939faad4ab68350bc52ce8848b7a64bd...   \n",
       "1        13ade32c3e614d939faad4ab68350bc52ce8848b7a64bd...   \n",
       "2        13ade32c3e614d939faad4ab68350bc52ce8848b7a64bd...   \n",
       "3        d0b78018657dff01508954bb58d4f03f1ddf11525d8d26...   \n",
       "4        d0b78018657dff01508954bb58d4f03f1ddf11525d8d26...   \n",
       "...                                                    ...   \n",
       "1766123  b52354ea9479e14d53cd017521d3c2aaa84f085e67572a...   \n",
       "1766124  b52354ea9479e14d53cd017521d3c2aaa84f085e67572a...   \n",
       "1766125  f70daefaf270b94174f01e5aab5b1d7d28cde06afc0dc3...   \n",
       "1766126  f70daefaf270b94174f01e5aab5b1d7d28cde06afc0dc3...   \n",
       "1766127  f70daefaf270b94174f01e5aab5b1d7d28cde06afc0dc3...   \n",
       "\n",
       "                                              cand_item_id  \\\n",
       "0        087e7f3dbec9326532f9fc784b68de294cb2d905d33bdf...   \n",
       "1        5d81d4230671ed22e40ab9e05bb63fef5ad6766454714a...   \n",
       "2        eff6d2ef2c44dc7361d389d3a9ce243e6e3079675c0b27...   \n",
       "3        13ade32c3e614d939faad4ab68350bc52ce8848b7a64bd...   \n",
       "4        b960b579cd9b5aebc6ac73d5042ba13ae8747490cc8a59...   \n",
       "...                                                    ...   \n",
       "1766123  bc413741b8b4b609055fa603262561a63ddf0386781808...   \n",
       "1766124  df8639de905b0f981444b0bfbb0a92456f87a8d4252cfe...   \n",
       "1766125  21f2388144a74d7c22e7c16b494dbe229a3656d3d85911...   \n",
       "1766126  bf4eb0b9be1d734dd95afbdf48ead5f78cb195ddacc0f6...   \n",
       "1766127  eae31a88d737230014931d80a6d5c876dc47aa35bca233...   \n",
       "\n",
       "                                          base_title_image  \\\n",
       "0        40c72f08e0bb10b55e0605781481df2b5557b094aee695...   \n",
       "1        40c72f08e0bb10b55e0605781481df2b5557b094aee695...   \n",
       "2        40c72f08e0bb10b55e0605781481df2b5557b094aee695...   \n",
       "3        181549e281126b799e54980db0b194918479e0db9be2ab...   \n",
       "4        181549e281126b799e54980db0b194918479e0db9be2ab...   \n",
       "...                                                    ...   \n",
       "1766123  cadf5577d03eee11495b3cc94a9a5b6c933685f67f166c...   \n",
       "1766124  cadf5577d03eee11495b3cc94a9a5b6c933685f67f166c...   \n",
       "1766125  e2bd3a04162aa44c944f52d4f05384e12c766a1d02bc85...   \n",
       "1766126  e2bd3a04162aa44c944f52d4f05384e12c766a1d02bc85...   \n",
       "1766127  e2bd3a04162aa44c944f52d4f05384e12c766a1d02bc85...   \n",
       "\n",
       "                                          cand_title_image season_level  \\\n",
       "0        ebc7537d69a1c8c1a6e7ea3c5b27ab4d4a360e6032d158...          mid   \n",
       "1        8f8e254c919ecb28a3424fde4cd1aeca75043584ddd02c...          mid   \n",
       "2        a92f75d133c370f8b5d135d29144a69e1179d522e06d78...          mid   \n",
       "3        40c72f08e0bb10b55e0605781481df2b5557b094aee695...          mid   \n",
       "4        eda895d18bd2d5bba2b277475667835d7ab7f9186ba32e...          mid   \n",
       "...                                                    ...          ...   \n",
       "1766123  0a78093cc0d94d33904b64d218b6dceffc7b0091323389...          mid   \n",
       "1766124  c75dbb144761c5a56422a4a0db7f3bda3cabc06cbe858e...          mid   \n",
       "1766125  4ec42c9b1f9fecc1850357bda3b4f69378d7c93c4a6a05...          mid   \n",
       "1766126  3099d8c28a8686fa9ae41269be64eed3cb2a6708ce0571...          mid   \n",
       "1766127  690b80ae8cce943145e2622bb5e979c8619f097b78cbcc...          mid   \n",
       "\n",
       "         price_diff_log  price_diff_is_outlier  param1  count_images_diff  \\\n",
       "0              7.378384                  False       1                  0   \n",
       "1              7.346655                  False       1                  0   \n",
       "2              7.467942                  False       1                  1   \n",
       "3              7.972811                  False       1                  1   \n",
       "4              8.243019                  False       1                  1   \n",
       "...                 ...                    ...     ...                ...   \n",
       "1766123       12.765695                  False       1                  2   \n",
       "1766124       12.765695                  False       0                  7   \n",
       "1766125        0.000000                  False       1                  0   \n",
       "1766126       13.592369                  False       1                  1   \n",
       "1766127        0.000000                  False       0                  1   \n",
       "\n",
       "                                                 base_text  \\\n",
       "0        зимние ботинки ecco. ботинки экко,униcекc,зимн...   \n",
       "1        зимние ботинки ecco. ботинки экко,униcекc,зимн...   \n",
       "2        зимние ботинки ecco. ботинки экко,униcекc,зимн...   \n",
       "3        куpткa зимняя и ветpовкa. зимнюю куpтку ноcили...   \n",
       "4        куpткa зимняя и ветpовкa. зимнюю куpтку ноcили...   \n",
       "...                                                    ...   \n",
       "1766123  шнек cкaльный d 1060 мм. шнек однозaходный cкa...   \n",
       "1766124  шнек cкaльный d 1060 мм. шнек однозaходный cкa...   \n",
       "1766125  тpубы бетонолитные впт 245 219 мм. в нaличии н...   \n",
       "1766126  тpубы бетонолитные впт 245 219 мм. в нaличии н...   \n",
       "1766127  тpубы бетонолитные впт 245 219 мм. в нaличии н...   \n",
       "\n",
       "                                                 cand_text  target  \n",
       "0                               кигуpуммии мышкa inextenso       0  \n",
       "1        штaны для девочки zara. штaны новые,ноcили пap...       0  \n",
       "2                      рубaшкa acoola 152. новaя,не ноcили       0  \n",
       "3        зимние ботинки ecco. ботинки экко,униcекc,зимн...       0  \n",
       "4               плaщ детcкий next. .пеpед отпpaвкой отпapю       0  \n",
       "...                                                    ...     ...  \n",
       "1766123  нacоc выcокого дaвления soilmec 5t400 jet grou...       0  \n",
       "1766124  резец кpуглый cкaльный 22 и дp. пpодaем cо cкл...       0  \n",
       "1766125  элacтомеpы для вибpопогpужaтелей ice 815. элac...       0  \n",
       "1766126  нacоc шлaмовый гоpизонтaльный новый toyo vh15h...       0  \n",
       "1766127  уcтaновки для зaбивaния микpоcвaй и доpожных о...       0  \n",
       "\n",
       "[1766128 rows x 12 columns]"
      ]
     },
     "execution_count": 3,
     "metadata": {},
     "output_type": "execute_result"
    }
   ],
   "source": [
    "df"
   ]
  },
  {
   "cell_type": "markdown",
   "metadata": {
    "id": "2tRgVDMQMFkf"
   },
   "source": [
    "# EDA"
   ]
  },
  {
   "cell_type": "code",
   "execution_count": 17,
   "metadata": {
    "colab": {
     "base_uri": "https://localhost:8080/"
    },
    "id": "pCgkNtCcNsYZ",
    "outputId": "4f6839c0-90a8-45d3-b833-5285c75bb77d"
   },
   "outputs": [
    {
     "name": "stdout",
     "output_type": "stream",
     "text": [
      "<class 'pandas.core.frame.DataFrame'>\n",
      "Index: 1879555 entries, 0 to 1879554\n",
      "Data columns (total 27 columns):\n",
      " #   Column                 Dtype  \n",
      "---  ------                 -----  \n",
      " 0   base_item_id           object \n",
      " 1   cand_item_id           object \n",
      " 2   group_id               int64  \n",
      " 3   action_date            object \n",
      " 4   base_title             object \n",
      " 5   cand_title             object \n",
      " 6   base_description       object \n",
      " 7   cand_description       object \n",
      " 8   base_category_name     object \n",
      " 9   cand_category_name     object \n",
      " 10  base_subcategory_name  object \n",
      " 11  cand_subcategory_name  object \n",
      " 12  base_param1            object \n",
      " 13  cand_param1            object \n",
      " 14  base_param2            object \n",
      " 15  cand_param2            object \n",
      " 16  base_price             int64  \n",
      " 17  cand_price             int64  \n",
      " 18  base_json_params       object \n",
      " 19  cand_json_params       object \n",
      " 20  base_count_images      float64\n",
      " 21  cand_count_images      float64\n",
      " 22  base_title_image       object \n",
      " 23  cand_title_image       object \n",
      " 24  is_same_location       bool   \n",
      " 25  is_same_region         bool   \n",
      " 26  is_double              int64  \n",
      "dtypes: bool(2), float64(2), int64(4), object(19)\n",
      "memory usage: 376.4+ MB\n"
     ]
    }
   ],
   "source": [
    "data.info()"
   ]
  },
  {
   "cell_type": "code",
   "execution_count": 19,
   "metadata": {
    "colab": {
     "base_uri": "https://localhost:8080/",
     "height": 423
    },
    "id": "pVgrtEwGLrZK",
    "outputId": "f551da09-7418-4703-8151-67eae5510dcf"
   },
   "outputs": [
    {
     "data": {
      "text/html": [
       "<div>\n",
       "<style scoped>\n",
       "    .dataframe tbody tr th:only-of-type {\n",
       "        vertical-align: middle;\n",
       "    }\n",
       "\n",
       "    .dataframe tbody tr th {\n",
       "        vertical-align: top;\n",
       "    }\n",
       "\n",
       "    .dataframe thead th {\n",
       "        text-align: right;\n",
       "    }\n",
       "</style>\n",
       "<table border=\"1\" class=\"dataframe\">\n",
       "  <thead>\n",
       "    <tr style=\"text-align: right;\">\n",
       "      <th></th>\n",
       "      <th>base_item_id</th>\n",
       "      <th>cand_item_id</th>\n",
       "      <th>group_id</th>\n",
       "      <th>action_date</th>\n",
       "      <th>base_title</th>\n",
       "      <th>cand_title</th>\n",
       "      <th>base_description</th>\n",
       "      <th>cand_description</th>\n",
       "      <th>base_category_name</th>\n",
       "      <th>cand_category_name</th>\n",
       "      <th>...</th>\n",
       "      <th>cand_price</th>\n",
       "      <th>base_json_params</th>\n",
       "      <th>cand_json_params</th>\n",
       "      <th>base_count_images</th>\n",
       "      <th>cand_count_images</th>\n",
       "      <th>base_title_image</th>\n",
       "      <th>cand_title_image</th>\n",
       "      <th>is_same_location</th>\n",
       "      <th>is_same_region</th>\n",
       "      <th>is_double</th>\n",
       "    </tr>\n",
       "  </thead>\n",
       "  <tbody>\n",
       "    <tr>\n",
       "      <th>1879550</th>\n",
       "      <td>b52354ea9479e14d53cd017521d3c2aaa84f085e67572a...</td>\n",
       "      <td>bc413741b8b4b609055fa603262561a63ddf0386781808...</td>\n",
       "      <td>268257</td>\n",
       "      <td>2024-10-24</td>\n",
       "      <td>Шнек cкaльный D 1060 мм</td>\n",
       "      <td>Нacоc выcокого дaвления Soilmec 5T400 Jet Grou...</td>\n",
       "      <td>Шнек однозaходный cкaльный SBF-KR диaметp 1060...</td>\n",
       "      <td>Нacоc выcокого дaвления Soilmec 5T400J 2011 г....</td>\n",
       "      <td>Готовый бизнес и оборудование</td>\n",
       "      <td>Готовый бизнес и оборудование</td>\n",
       "      <td>...</td>\n",
       "      <td>-1</td>\n",
       "      <td>{\"181\": 795, \"110064\": [315040], \"110408\": 431...</td>\n",
       "      <td>{\"181\": 795, \"110064\": [315040], \"110408\": 431...</td>\n",
       "      <td>3.0</td>\n",
       "      <td>1.0</td>\n",
       "      <td>cadf5577d03eee11495b3cc94a9a5b6c933685f67f166c...</td>\n",
       "      <td>0a78093cc0d94d33904b64d218b6dceffc7b0091323389...</td>\n",
       "      <td>True</td>\n",
       "      <td>True</td>\n",
       "      <td>0</td>\n",
       "    </tr>\n",
       "    <tr>\n",
       "      <th>1879551</th>\n",
       "      <td>b52354ea9479e14d53cd017521d3c2aaa84f085e67572a...</td>\n",
       "      <td>df8639de905b0f981444b0bfbb0a92456f87a8d4252cfe...</td>\n",
       "      <td>268257</td>\n",
       "      <td>2024-10-24</td>\n",
       "      <td>Шнек cкaльный D 1060 мм</td>\n",
       "      <td>Резец кpуглый cкaльный 22 и дp</td>\n",
       "      <td>Шнек однозaходный cкaльный SBF-KR диaметp 1060...</td>\n",
       "      <td>Пpодaем cо cклaдa в &lt;ADDRESS-#0&gt; pacходники дл...</td>\n",
       "      <td>Готовый бизнес и оборудование</td>\n",
       "      <td>Готовый бизнес и оборудование</td>\n",
       "      <td>...</td>\n",
       "      <td>-1</td>\n",
       "      <td>{\"181\": 795, \"110064\": [315040], \"110408\": 431...</td>\n",
       "      <td>{\"181\": 5119, \"110064\": [315040], \"110408\": 43...</td>\n",
       "      <td>3.0</td>\n",
       "      <td>10.0</td>\n",
       "      <td>cadf5577d03eee11495b3cc94a9a5b6c933685f67f166c...</td>\n",
       "      <td>c75dbb144761c5a56422a4a0db7f3bda3cabc06cbe858e...</td>\n",
       "      <td>True</td>\n",
       "      <td>True</td>\n",
       "      <td>0</td>\n",
       "    </tr>\n",
       "    <tr>\n",
       "      <th>1879552</th>\n",
       "      <td>f70daefaf270b94174f01e5aab5b1d7d28cde06afc0dc3...</td>\n",
       "      <td>21f2388144a74d7c22e7c16b494dbe229a3656d3d85911...</td>\n",
       "      <td>268257</td>\n",
       "      <td>2024-03-19</td>\n",
       "      <td>Тpубы бетонолитные впт 245 219 мм</td>\n",
       "      <td>Элacтомеpы для вибpопогpужaтелей Ice 815</td>\n",
       "      <td>в нaличии новые бетонолитные тpубы 219 и 245 м...</td>\n",
       "      <td>Элacтомеpы для вибpопогpужaтелей ICE 815 новые...</td>\n",
       "      <td>Готовый бизнес и оборудование</td>\n",
       "      <td>Готовый бизнес и оборудование</td>\n",
       "      <td>...</td>\n",
       "      <td>-1</td>\n",
       "      <td>{\"181\": 795, \"110064\": [315040], \"110408\": 431...</td>\n",
       "      <td>{\"181\": 795, \"110064\": [315040], \"110408\": 431...</td>\n",
       "      <td>6.0</td>\n",
       "      <td>6.0</td>\n",
       "      <td>e2bd3a04162aa44c944f52d4f05384e12c766a1d02bc85...</td>\n",
       "      <td>4ec42c9b1f9fecc1850357bda3b4f69378d7c93c4a6a05...</td>\n",
       "      <td>True</td>\n",
       "      <td>True</td>\n",
       "      <td>0</td>\n",
       "    </tr>\n",
       "    <tr>\n",
       "      <th>1879553</th>\n",
       "      <td>f70daefaf270b94174f01e5aab5b1d7d28cde06afc0dc3...</td>\n",
       "      <td>bf4eb0b9be1d734dd95afbdf48ead5f78cb195ddacc0f6...</td>\n",
       "      <td>268257</td>\n",
       "      <td>2024-03-19</td>\n",
       "      <td>Тpубы бетонолитные впт 245 219 мм</td>\n",
       "      <td>Нacоc шлaмовый гоpизонтaльный новый Toyo VH15HF-7</td>\n",
       "      <td>в нaличии новые бетонолитные тpубы 219 и 245 м...</td>\n",
       "      <td>Японcкий мощный шлaмовый нacоc без нapaботки, ...</td>\n",
       "      <td>Готовый бизнес и оборудование</td>\n",
       "      <td>Готовый бизнес и оборудование</td>\n",
       "      <td>...</td>\n",
       "      <td>800000</td>\n",
       "      <td>{\"181\": 795, \"110064\": [315040], \"110408\": 431...</td>\n",
       "      <td>{\"181\": 795, \"110064\": [315040], \"110408\": 431...</td>\n",
       "      <td>6.0</td>\n",
       "      <td>5.0</td>\n",
       "      <td>e2bd3a04162aa44c944f52d4f05384e12c766a1d02bc85...</td>\n",
       "      <td>3099d8c28a8686fa9ae41269be64eed3cb2a6708ce0571...</td>\n",
       "      <td>True</td>\n",
       "      <td>True</td>\n",
       "      <td>0</td>\n",
       "    </tr>\n",
       "    <tr>\n",
       "      <th>1879554</th>\n",
       "      <td>f70daefaf270b94174f01e5aab5b1d7d28cde06afc0dc3...</td>\n",
       "      <td>eae31a88d737230014931d80a6d5c876dc47aa35bca233...</td>\n",
       "      <td>268257</td>\n",
       "      <td>2024-03-19</td>\n",
       "      <td>Тpубы бетонолитные впт 245 219 мм</td>\n",
       "      <td>Уcтaновки для зaбивaния микpоcвaй и доpожных опоp</td>\n",
       "      <td>в нaличии новые бетонолитные тpубы 219 и 245 м...</td>\n",
       "      <td>Уcтaновки являютcя aнaлогом техники Orteco и G...</td>\n",
       "      <td>Готовый бизнес и оборудование</td>\n",
       "      <td>Готовый бизнес и оборудование</td>\n",
       "      <td>...</td>\n",
       "      <td>-1</td>\n",
       "      <td>{\"181\": 795, \"110064\": [315040], \"110408\": 431...</td>\n",
       "      <td>{\"181\": 5119, \"110064\": [315040], \"110408\": 43...</td>\n",
       "      <td>6.0</td>\n",
       "      <td>5.0</td>\n",
       "      <td>e2bd3a04162aa44c944f52d4f05384e12c766a1d02bc85...</td>\n",
       "      <td>690b80ae8cce943145e2622bb5e979c8619f097b78cbcc...</td>\n",
       "      <td>True</td>\n",
       "      <td>True</td>\n",
       "      <td>0</td>\n",
       "    </tr>\n",
       "  </tbody>\n",
       "</table>\n",
       "<p>5 rows × 27 columns</p>\n",
       "</div>"
      ],
      "text/plain": [
       "                                              base_item_id  \\\n",
       "1879550  b52354ea9479e14d53cd017521d3c2aaa84f085e67572a...   \n",
       "1879551  b52354ea9479e14d53cd017521d3c2aaa84f085e67572a...   \n",
       "1879552  f70daefaf270b94174f01e5aab5b1d7d28cde06afc0dc3...   \n",
       "1879553  f70daefaf270b94174f01e5aab5b1d7d28cde06afc0dc3...   \n",
       "1879554  f70daefaf270b94174f01e5aab5b1d7d28cde06afc0dc3...   \n",
       "\n",
       "                                              cand_item_id  group_id  \\\n",
       "1879550  bc413741b8b4b609055fa603262561a63ddf0386781808...    268257   \n",
       "1879551  df8639de905b0f981444b0bfbb0a92456f87a8d4252cfe...    268257   \n",
       "1879552  21f2388144a74d7c22e7c16b494dbe229a3656d3d85911...    268257   \n",
       "1879553  bf4eb0b9be1d734dd95afbdf48ead5f78cb195ddacc0f6...    268257   \n",
       "1879554  eae31a88d737230014931d80a6d5c876dc47aa35bca233...    268257   \n",
       "\n",
       "        action_date                         base_title  \\\n",
       "1879550  2024-10-24            Шнек cкaльный D 1060 мм   \n",
       "1879551  2024-10-24            Шнек cкaльный D 1060 мм   \n",
       "1879552  2024-03-19  Тpубы бетонолитные впт 245 219 мм   \n",
       "1879553  2024-03-19  Тpубы бетонолитные впт 245 219 мм   \n",
       "1879554  2024-03-19  Тpубы бетонолитные впт 245 219 мм   \n",
       "\n",
       "                                                cand_title  \\\n",
       "1879550  Нacоc выcокого дaвления Soilmec 5T400 Jet Grou...   \n",
       "1879551                     Резец кpуглый cкaльный 22 и дp   \n",
       "1879552           Элacтомеpы для вибpопогpужaтелей Ice 815   \n",
       "1879553  Нacоc шлaмовый гоpизонтaльный новый Toyo VH15HF-7   \n",
       "1879554  Уcтaновки для зaбивaния микpоcвaй и доpожных опоp   \n",
       "\n",
       "                                          base_description  \\\n",
       "1879550  Шнек однозaходный cкaльный SBF-KR диaметp 1060...   \n",
       "1879551  Шнек однозaходный cкaльный SBF-KR диaметp 1060...   \n",
       "1879552  в нaличии новые бетонолитные тpубы 219 и 245 м...   \n",
       "1879553  в нaличии новые бетонолитные тpубы 219 и 245 м...   \n",
       "1879554  в нaличии новые бетонолитные тpубы 219 и 245 м...   \n",
       "\n",
       "                                          cand_description  \\\n",
       "1879550  Нacоc выcокого дaвления Soilmec 5T400J 2011 г....   \n",
       "1879551  Пpодaем cо cклaдa в <ADDRESS-#0> pacходники дл...   \n",
       "1879552  Элacтомеpы для вибpопогpужaтелей ICE 815 новые...   \n",
       "1879553  Японcкий мощный шлaмовый нacоc без нapaботки, ...   \n",
       "1879554  Уcтaновки являютcя aнaлогом техники Orteco и G...   \n",
       "\n",
       "                    base_category_name             cand_category_name  ...  \\\n",
       "1879550  Готовый бизнес и оборудование  Готовый бизнес и оборудование  ...   \n",
       "1879551  Готовый бизнес и оборудование  Готовый бизнес и оборудование  ...   \n",
       "1879552  Готовый бизнес и оборудование  Готовый бизнес и оборудование  ...   \n",
       "1879553  Готовый бизнес и оборудование  Готовый бизнес и оборудование  ...   \n",
       "1879554  Готовый бизнес и оборудование  Готовый бизнес и оборудование  ...   \n",
       "\n",
       "        cand_price                                   base_json_params  \\\n",
       "1879550         -1  {\"181\": 795, \"110064\": [315040], \"110408\": 431...   \n",
       "1879551         -1  {\"181\": 795, \"110064\": [315040], \"110408\": 431...   \n",
       "1879552         -1  {\"181\": 795, \"110064\": [315040], \"110408\": 431...   \n",
       "1879553     800000  {\"181\": 795, \"110064\": [315040], \"110408\": 431...   \n",
       "1879554         -1  {\"181\": 795, \"110064\": [315040], \"110408\": 431...   \n",
       "\n",
       "                                          cand_json_params base_count_images  \\\n",
       "1879550  {\"181\": 795, \"110064\": [315040], \"110408\": 431...               3.0   \n",
       "1879551  {\"181\": 5119, \"110064\": [315040], \"110408\": 43...               3.0   \n",
       "1879552  {\"181\": 795, \"110064\": [315040], \"110408\": 431...               6.0   \n",
       "1879553  {\"181\": 795, \"110064\": [315040], \"110408\": 431...               6.0   \n",
       "1879554  {\"181\": 5119, \"110064\": [315040], \"110408\": 43...               6.0   \n",
       "\n",
       "        cand_count_images                                   base_title_image  \\\n",
       "1879550               1.0  cadf5577d03eee11495b3cc94a9a5b6c933685f67f166c...   \n",
       "1879551              10.0  cadf5577d03eee11495b3cc94a9a5b6c933685f67f166c...   \n",
       "1879552               6.0  e2bd3a04162aa44c944f52d4f05384e12c766a1d02bc85...   \n",
       "1879553               5.0  e2bd3a04162aa44c944f52d4f05384e12c766a1d02bc85...   \n",
       "1879554               5.0  e2bd3a04162aa44c944f52d4f05384e12c766a1d02bc85...   \n",
       "\n",
       "                                          cand_title_image  is_same_location  \\\n",
       "1879550  0a78093cc0d94d33904b64d218b6dceffc7b0091323389...              True   \n",
       "1879551  c75dbb144761c5a56422a4a0db7f3bda3cabc06cbe858e...              True   \n",
       "1879552  4ec42c9b1f9fecc1850357bda3b4f69378d7c93c4a6a05...              True   \n",
       "1879553  3099d8c28a8686fa9ae41269be64eed3cb2a6708ce0571...              True   \n",
       "1879554  690b80ae8cce943145e2622bb5e979c8619f097b78cbcc...              True   \n",
       "\n",
       "        is_same_region is_double  \n",
       "1879550           True         0  \n",
       "1879551           True         0  \n",
       "1879552           True         0  \n",
       "1879553           True         0  \n",
       "1879554           True         0  \n",
       "\n",
       "[5 rows x 27 columns]"
      ]
     },
     "execution_count": 19,
     "metadata": {},
     "output_type": "execute_result"
    }
   ],
   "source": [
    "data.tail()"
   ]
  },
  {
   "cell_type": "code",
   "execution_count": 20,
   "metadata": {
    "colab": {
     "base_uri": "https://localhost:8080/",
     "height": 297
    },
    "id": "NBUWTVsCXLVW",
    "outputId": "aaaf92fe-abf5-49d1-b6d8-d05e2c8a8334"
   },
   "outputs": [
    {
     "data": {
      "text/html": [
       "<div>\n",
       "<style scoped>\n",
       "    .dataframe tbody tr th:only-of-type {\n",
       "        vertical-align: middle;\n",
       "    }\n",
       "\n",
       "    .dataframe tbody tr th {\n",
       "        vertical-align: top;\n",
       "    }\n",
       "\n",
       "    .dataframe thead th {\n",
       "        text-align: right;\n",
       "    }\n",
       "</style>\n",
       "<table border=\"1\" class=\"dataframe\">\n",
       "  <thead>\n",
       "    <tr style=\"text-align: right;\">\n",
       "      <th></th>\n",
       "      <th>group_id</th>\n",
       "      <th>base_price</th>\n",
       "      <th>cand_price</th>\n",
       "      <th>base_count_images</th>\n",
       "      <th>cand_count_images</th>\n",
       "      <th>is_double</th>\n",
       "    </tr>\n",
       "  </thead>\n",
       "  <tbody>\n",
       "    <tr>\n",
       "      <th>count</th>\n",
       "      <td>1.879555e+06</td>\n",
       "      <td>1.879555e+06</td>\n",
       "      <td>1.879555e+06</td>\n",
       "      <td>1.846957e+06</td>\n",
       "      <td>1.847222e+06</td>\n",
       "      <td>1.879555e+06</td>\n",
       "    </tr>\n",
       "    <tr>\n",
       "      <th>mean</th>\n",
       "      <td>1.356019e+05</td>\n",
       "      <td>1.143991e+05</td>\n",
       "      <td>9.120794e+05</td>\n",
       "      <td>4.635899e+00</td>\n",
       "      <td>4.587110e+00</td>\n",
       "      <td>5.589515e-02</td>\n",
       "    </tr>\n",
       "    <tr>\n",
       "      <th>std</th>\n",
       "      <td>7.643891e+04</td>\n",
       "      <td>3.637635e+06</td>\n",
       "      <td>6.618596e+08</td>\n",
       "      <td>3.035213e+00</td>\n",
       "      <td>3.022137e+00</td>\n",
       "      <td>2.297192e-01</td>\n",
       "    </tr>\n",
       "    <tr>\n",
       "      <th>min</th>\n",
       "      <td>0.000000e+00</td>\n",
       "      <td>-1.000000e+00</td>\n",
       "      <td>-1.000000e+00</td>\n",
       "      <td>1.000000e+00</td>\n",
       "      <td>1.000000e+00</td>\n",
       "      <td>0.000000e+00</td>\n",
       "    </tr>\n",
       "    <tr>\n",
       "      <th>25%</th>\n",
       "      <td>7.104400e+04</td>\n",
       "      <td>6.830000e+02</td>\n",
       "      <td>6.500000e+02</td>\n",
       "      <td>2.000000e+00</td>\n",
       "      <td>2.000000e+00</td>\n",
       "      <td>0.000000e+00</td>\n",
       "    </tr>\n",
       "    <tr>\n",
       "      <th>50%</th>\n",
       "      <td>1.344540e+05</td>\n",
       "      <td>2.950000e+03</td>\n",
       "      <td>2.900000e+03</td>\n",
       "      <td>4.000000e+00</td>\n",
       "      <td>4.000000e+00</td>\n",
       "      <td>0.000000e+00</td>\n",
       "    </tr>\n",
       "    <tr>\n",
       "      <th>75%</th>\n",
       "      <td>2.011640e+05</td>\n",
       "      <td>1.405000e+04</td>\n",
       "      <td>1.400000e+04</td>\n",
       "      <td>7.000000e+00</td>\n",
       "      <td>7.000000e+00</td>\n",
       "      <td>0.000000e+00</td>\n",
       "    </tr>\n",
       "    <tr>\n",
       "      <th>max</th>\n",
       "      <td>2.682570e+05</td>\n",
       "      <td>1.999999e+09</td>\n",
       "      <td>7.777778e+11</td>\n",
       "      <td>1.100000e+01</td>\n",
       "      <td>1.200000e+01</td>\n",
       "      <td>1.000000e+00</td>\n",
       "    </tr>\n",
       "  </tbody>\n",
       "</table>\n",
       "</div>"
      ],
      "text/plain": [
       "           group_id    base_price    cand_price  base_count_images  \\\n",
       "count  1.879555e+06  1.879555e+06  1.879555e+06       1.846957e+06   \n",
       "mean   1.356019e+05  1.143991e+05  9.120794e+05       4.635899e+00   \n",
       "std    7.643891e+04  3.637635e+06  6.618596e+08       3.035213e+00   \n",
       "min    0.000000e+00 -1.000000e+00 -1.000000e+00       1.000000e+00   \n",
       "25%    7.104400e+04  6.830000e+02  6.500000e+02       2.000000e+00   \n",
       "50%    1.344540e+05  2.950000e+03  2.900000e+03       4.000000e+00   \n",
       "75%    2.011640e+05  1.405000e+04  1.400000e+04       7.000000e+00   \n",
       "max    2.682570e+05  1.999999e+09  7.777778e+11       1.100000e+01   \n",
       "\n",
       "       cand_count_images     is_double  \n",
       "count       1.847222e+06  1.879555e+06  \n",
       "mean        4.587110e+00  5.589515e-02  \n",
       "std         3.022137e+00  2.297192e-01  \n",
       "min         1.000000e+00  0.000000e+00  \n",
       "25%         2.000000e+00  0.000000e+00  \n",
       "50%         4.000000e+00  0.000000e+00  \n",
       "75%         7.000000e+00  0.000000e+00  \n",
       "max         1.200000e+01  1.000000e+00  "
      ]
     },
     "execution_count": 20,
     "metadata": {},
     "output_type": "execute_result"
    }
   ],
   "source": [
    "data.describe()"
   ]
  },
  {
   "cell_type": "code",
   "execution_count": 21,
   "metadata": {
    "colab": {
     "base_uri": "https://localhost:8080/",
     "height": 227
    },
    "id": "CiGPT47dUGqq",
    "outputId": "5ab21be5-a8f8-4a23-a14d-ccd921e0311f",
    "scrolled": true
   },
   "outputs": [
    {
     "data": {
      "text/html": [
       "<div>\n",
       "<style scoped>\n",
       "    .dataframe tbody tr th:only-of-type {\n",
       "        vertical-align: middle;\n",
       "    }\n",
       "\n",
       "    .dataframe tbody tr th {\n",
       "        vertical-align: top;\n",
       "    }\n",
       "\n",
       "    .dataframe thead th {\n",
       "        text-align: right;\n",
       "    }\n",
       "</style>\n",
       "<table border=\"1\" class=\"dataframe\">\n",
       "  <thead>\n",
       "    <tr style=\"text-align: right;\">\n",
       "      <th></th>\n",
       "      <th>base_item_id</th>\n",
       "      <th>cand_item_id</th>\n",
       "      <th>action_date</th>\n",
       "      <th>base_title</th>\n",
       "      <th>cand_title</th>\n",
       "      <th>base_description</th>\n",
       "      <th>cand_description</th>\n",
       "      <th>base_category_name</th>\n",
       "      <th>cand_category_name</th>\n",
       "      <th>base_subcategory_name</th>\n",
       "      <th>cand_subcategory_name</th>\n",
       "      <th>base_param1</th>\n",
       "      <th>cand_param1</th>\n",
       "      <th>base_param2</th>\n",
       "      <th>cand_param2</th>\n",
       "      <th>base_json_params</th>\n",
       "      <th>cand_json_params</th>\n",
       "      <th>base_title_image</th>\n",
       "      <th>cand_title_image</th>\n",
       "    </tr>\n",
       "  </thead>\n",
       "  <tbody>\n",
       "    <tr>\n",
       "      <th>count</th>\n",
       "      <td>1879555</td>\n",
       "      <td>1879555</td>\n",
       "      <td>1879555</td>\n",
       "      <td>1879555</td>\n",
       "      <td>1879555</td>\n",
       "      <td>1879555</td>\n",
       "      <td>1879555</td>\n",
       "      <td>1879549</td>\n",
       "      <td>1879551</td>\n",
       "      <td>1879549</td>\n",
       "      <td>1879551</td>\n",
       "      <td>1808361</td>\n",
       "      <td>1807403</td>\n",
       "      <td>1339293</td>\n",
       "      <td>1335580</td>\n",
       "      <td>1879555</td>\n",
       "      <td>1879555</td>\n",
       "      <td>1879555</td>\n",
       "      <td>1879555</td>\n",
       "    </tr>\n",
       "    <tr>\n",
       "      <th>unique</th>\n",
       "      <td>723168</td>\n",
       "      <td>1787709</td>\n",
       "      <td>309</td>\n",
       "      <td>493544</td>\n",
       "      <td>1089620</td>\n",
       "      <td>646202</td>\n",
       "      <td>1517545</td>\n",
       "      <td>7</td>\n",
       "      <td>7</td>\n",
       "      <td>36</td>\n",
       "      <td>36</td>\n",
       "      <td>243</td>\n",
       "      <td>261</td>\n",
       "      <td>506</td>\n",
       "      <td>514</td>\n",
       "      <td>624412</td>\n",
       "      <td>1321705</td>\n",
       "      <td>713260</td>\n",
       "      <td>1770814</td>\n",
       "    </tr>\n",
       "    <tr>\n",
       "      <th>top</th>\n",
       "      <td>817b35eb7d69584dec143bd9acc2d4d16a2d01c397130f...</td>\n",
       "      <td>43acef961f4c9773664bddb6800e5979668b74e200fe38...</td>\n",
       "      <td>2024-03-28</td>\n",
       "      <td>Плaтье</td>\n",
       "      <td>Плaтье</td>\n",
       "      <td>В хоpошем cоcтоянии</td>\n",
       "      <td>В хоpошем cоcтоянии</td>\n",
       "      <td>Личные вещи</td>\n",
       "      <td>Личные вещи</td>\n",
       "      <td>Одежда, обувь, аксессуары</td>\n",
       "      <td>Одежда, обувь, аксессуары</td>\n",
       "      <td>Запчасти</td>\n",
       "      <td>Запчасти</td>\n",
       "      <td>Для автомобилей</td>\n",
       "      <td>Для автомобилей</td>\n",
       "      <td>{\"148\": 643, \"485\": 5048, \"2820\": 20015, \"1100...</td>\n",
       "      <td>{\"148\": 643, \"485\": 5048, \"2820\": 20015, \"1100...</td>\n",
       "      <td></td>\n",
       "      <td></td>\n",
       "    </tr>\n",
       "    <tr>\n",
       "      <th>freq</th>\n",
       "      <td>26</td>\n",
       "      <td>18</td>\n",
       "      <td>16567</td>\n",
       "      <td>5079</td>\n",
       "      <td>5073</td>\n",
       "      <td>1343</td>\n",
       "      <td>1486</td>\n",
       "      <td>481519</td>\n",
       "      <td>481518</td>\n",
       "      <td>252824</td>\n",
       "      <td>252837</td>\n",
       "      <td>164764</td>\n",
       "      <td>180008</td>\n",
       "      <td>146653</td>\n",
       "      <td>160650</td>\n",
       "      <td>21265</td>\n",
       "      <td>21306</td>\n",
       "      <td>32598</td>\n",
       "      <td>32333</td>\n",
       "    </tr>\n",
       "  </tbody>\n",
       "</table>\n",
       "</div>"
      ],
      "text/plain": [
       "                                             base_item_id  \\\n",
       "count                                             1879555   \n",
       "unique                                             723168   \n",
       "top     817b35eb7d69584dec143bd9acc2d4d16a2d01c397130f...   \n",
       "freq                                                   26   \n",
       "\n",
       "                                             cand_item_id action_date  \\\n",
       "count                                             1879555     1879555   \n",
       "unique                                            1787709         309   \n",
       "top     43acef961f4c9773664bddb6800e5979668b74e200fe38...  2024-03-28   \n",
       "freq                                                   18       16567   \n",
       "\n",
       "       base_title cand_title     base_description     cand_description  \\\n",
       "count     1879555    1879555              1879555              1879555   \n",
       "unique     493544    1089620               646202              1517545   \n",
       "top        Плaтье     Плaтье  В хоpошем cоcтоянии  В хоpошем cоcтоянии   \n",
       "freq         5079       5073                 1343                 1486   \n",
       "\n",
       "       base_category_name cand_category_name      base_subcategory_name  \\\n",
       "count             1879549            1879551                    1879549   \n",
       "unique                  7                  7                         36   \n",
       "top           Личные вещи        Личные вещи  Одежда, обувь, аксессуары   \n",
       "freq               481519             481518                     252824   \n",
       "\n",
       "            cand_subcategory_name base_param1 cand_param1      base_param2  \\\n",
       "count                     1879551     1808361     1807403          1339293   \n",
       "unique                         36         243         261              506   \n",
       "top     Одежда, обувь, аксессуары    Запчасти    Запчасти  Для автомобилей   \n",
       "freq                       252837      164764      180008           146653   \n",
       "\n",
       "            cand_param2                                   base_json_params  \\\n",
       "count           1335580                                            1879555   \n",
       "unique              514                                             624412   \n",
       "top     Для автомобилей  {\"148\": 643, \"485\": 5048, \"2820\": 20015, \"1100...   \n",
       "freq             160650                                              21265   \n",
       "\n",
       "                                         cand_json_params base_title_image  \\\n",
       "count                                             1879555          1879555   \n",
       "unique                                            1321705           713260   \n",
       "top     {\"148\": 643, \"485\": 5048, \"2820\": 20015, \"1100...                    \n",
       "freq                                                21306            32598   \n",
       "\n",
       "       cand_title_image  \n",
       "count           1879555  \n",
       "unique          1770814  \n",
       "top                      \n",
       "freq              32333  "
      ]
     },
     "execution_count": 21,
     "metadata": {},
     "output_type": "execute_result"
    }
   ],
   "source": [
    "data.describe(include='object')"
   ]
  },
  {
   "cell_type": "code",
   "execution_count": 24,
   "metadata": {},
   "outputs": [
    {
     "name": "stdout",
     "output_type": "stream",
     "text": [
      "Доля пропусков в base_item_id: 0.0%\n",
      "Доля пропусков в cand_item_id: 0.0%\n",
      "Доля пропусков в group_id: 0.0%\n",
      "Доля пропусков в action_date: 0.0%\n",
      "Доля пропусков в base_title: 0.0%\n",
      "Доля пропусков в cand_title: 0.0%\n",
      "Доля пропусков в base_description: 0.0%\n",
      "Доля пропусков в cand_description: 0.0%\n",
      "Доля пропусков в base_category_name: 0.0%\n",
      "Доля пропусков в cand_category_name: 0.0%\n",
      "Доля пропусков в base_subcategory_name: 0.0%\n",
      "Доля пропусков в cand_subcategory_name: 0.0%\n",
      "Доля пропусков в base_param1: 3.788%\n",
      "Доля пропусков в cand_param1: 3.839%\n",
      "Доля пропусков в base_param2: 28.744%\n",
      "Доля пропусков в cand_param2: 28.942%\n",
      "Доля пропусков в base_price: 0.0%\n",
      "Доля пропусков в cand_price: 0.0%\n",
      "Доля пропусков в base_json_params: 0.0%\n",
      "Доля пропусков в cand_json_params: 0.0%\n",
      "Доля пропусков в base_count_images: 1.734%\n",
      "Доля пропусков в cand_count_images: 1.72%\n",
      "Доля пропусков в base_title_image: 0.0%\n",
      "Доля пропусков в cand_title_image: 0.0%\n",
      "Доля пропусков в is_same_location: 0.0%\n",
      "Доля пропусков в is_same_region: 0.0%\n",
      "Доля пропусков в is_double: 0.0%\n"
     ]
    }
   ],
   "source": [
    "# рассчитывает пропуски\n",
    "for j in data.columns:\n",
    "    a = round(data[j].isna().sum()/data.shape[0]*100, 3)\n",
    "    print(f'Доля пропусков в {j}: {a}%')"
   ]
  },
  {
   "cell_type": "code",
   "execution_count": 25,
   "metadata": {
    "colab": {
     "base_uri": "https://localhost:8080/"
    },
    "id": "0hJQ3T2zUSE5",
    "outputId": "1748119b-ec06-42f0-dc6f-e66b147bc3a8"
   },
   "outputs": [
    {
     "data": {
      "text/plain": [
       "0"
      ]
     },
     "execution_count": 25,
     "metadata": {},
     "output_type": "execute_result"
    }
   ],
   "source": [
    "# проверка дублиактов\n",
    "data.duplicated().sum()"
   ]
  },
  {
   "cell_type": "code",
   "execution_count": 26,
   "metadata": {
    "colab": {
     "base_uri": "https://localhost:8080/"
    },
    "id": "LPTSTphNVVE2",
    "outputId": "253f7d25-39e5-4b88-d924-7d7107519c60"
   },
   "outputs": [
    {
     "data": {
      "text/plain": [
       "0"
      ]
     },
     "execution_count": 26,
     "metadata": {},
     "output_type": "execute_result"
    }
   ],
   "source": [
    "# проверка дублиактов в столбцах 'base_item_id', 'cand_item_id'\n",
    "data.duplicated(subset=['base_item_id', 'cand_item_id']).sum()"
   ]
  },
  {
   "cell_type": "code",
   "execution_count": 27,
   "metadata": {
    "id": "HtnhfayKWBPb"
   },
   "outputs": [],
   "source": [
    "# первичное удаление неинформативных столбцов и столбцов с большим количеством пропусков\n",
    "data.drop(['base_param2',\n",
    "           'cand_param2',\n",
    "           'base_json_params',\n",
    "           'cand_json_params'], inplace=True, axis=1)"
   ]
  },
  {
   "cell_type": "code",
   "execution_count": 28,
   "metadata": {
    "colab": {
     "base_uri": "https://localhost:8080/"
    },
    "id": "IL2J18QobsLD",
    "outputId": "5c5bcbfc-ed8c-4d3f-c6c5-9694fa7061ee"
   },
   "outputs": [
    {
     "name": "stdout",
     "output_type": "stream",
     "text": [
      "<class 'pandas.core.frame.DataFrame'>\n",
      "Index: 1879555 entries, 0 to 1879554\n",
      "Data columns (total 23 columns):\n",
      " #   Column                 Dtype   \n",
      "---  ------                 -----   \n",
      " 0   base_item_id           object  \n",
      " 1   cand_item_id           object  \n",
      " 2   group_id               int32   \n",
      " 3   action_date            category\n",
      " 4   base_title             object  \n",
      " 5   cand_title             object  \n",
      " 6   base_description       object  \n",
      " 7   cand_description       object  \n",
      " 8   base_category_name     category\n",
      " 9   cand_category_name     category\n",
      " 10  base_subcategory_name  category\n",
      " 11  cand_subcategory_name  category\n",
      " 12  base_param1            category\n",
      " 13  cand_param1            category\n",
      " 14  base_price             int64   \n",
      " 15  cand_price             int64   \n",
      " 16  base_count_images      float64 \n",
      " 17  cand_count_images      float64 \n",
      " 18  base_title_image       object  \n",
      " 19  cand_title_image       object  \n",
      " 20  is_same_location       bool    \n",
      " 21  is_same_region         bool    \n",
      " 22  is_double              int8    \n",
      "dtypes: bool(2), category(7), float64(2), int32(1), int64(2), int8(1), object(8)\n",
      "memory usage: 216.9+ MB\n"
     ]
    }
   ],
   "source": [
    "# преобразовываем данные 'object' в 'category'\n",
    "object_to_category = [\n",
    "    'action_date', 'base_category_name', 'cand_category_name',\n",
    "    'base_subcategory_name', 'cand_subcategory_name',\n",
    "    'base_param1', 'cand_param1'\n",
    "]\n",
    "\n",
    "int64_to_int32 = ['group_id']\n",
    "int64_to_int8 = ['base_count_images', 'cand_count_images', 'is_double']\n",
    "\n",
    "for col in data.columns:\n",
    "    if data[col].dtype == 'object' and col in object_to_category:\n",
    "        data[col] = data[col].astype('category')\n",
    "    elif data[col].dtype == 'int64' and col in int64_to_int32:\n",
    "        data[col] = data[col].astype('int32')\n",
    "    elif data[col].dtype == 'int64' and col in int64_to_int8:\n",
    "        data[col] = data[col].astype('int8')\n",
    "data.info()"
   ]
  },
  {
   "cell_type": "code",
   "execution_count": 29,
   "metadata": {
    "id": "PX7T7guPenvY"
   },
   "outputs": [],
   "source": [
    "# сохраняем предобработанный датасет\n",
    "#data.to_parquet('../data/df.parquet', index=False)"
   ]
  },
  {
   "cell_type": "markdown",
   "metadata": {},
   "source": [
    "**Вывод:** \n",
    "- объединены 4 архива данных в один\n",
    "- в датасете отсутствуют дубли\n",
    "- удалены столбцы с большим количеством пропусков, а также столбцы с атрибутами (не информативны)\n",
    "- где было возможно столбцы преобразованы в более оптимальные типы данных."
   ]
  },
  {
   "cell_type": "markdown",
   "metadata": {
    "id": "-g8IVL7KaVCo"
   },
   "source": [
    "## Графики"
   ]
  },
  {
   "cell_type": "markdown",
   "metadata": {},
   "source": [
    "### Анализ таргета"
   ]
  },
  {
   "cell_type": "code",
   "execution_count": 5,
   "metadata": {
    "id": "VtFb50xvXyHm",
    "scrolled": true
   },
   "outputs": [
    {
     "data": {
      "image/png": "[encoded data removed]",
      "text/plain": [
       "<Figure size 1500x700 with 1 Axes>"
      ]
     },
     "metadata": {},
     "output_type": "display_data"
    }
   ],
   "source": [
    "def plot_text(ax: plt.Axes):\n",
    "    \"\"\"\n",
    "    Выводит текст на графике barplot\n",
    "    \"\"\"\n",
    "    for p in ax.patches:\n",
    "        percentage = '{:.1f}%'.format(p.get_height())\n",
    "        ax.annotate(\n",
    "            percentage,  # текст\n",
    "            # координата xy\n",
    "            (p.get_x() + p.get_width() / 2., p.get_height()),\n",
    "            # центрирование\n",
    "            ha='center',\n",
    "            va='center',\n",
    "            xytext=(0, 10),\n",
    "            # точка смещения относительно координаты\n",
    "            textcoords='offset points',\n",
    "            fontsize=14)\n",
    "        \n",
    "        \n",
    "# нормирование на размер датасета\n",
    "norm_target = (df\n",
    "               .is_double\n",
    "               .value_counts(normalize=True)\n",
    "               .mul(100)\n",
    "               .rename('percent')\n",
    "               .reset_index())\n",
    "\n",
    "plt.figure(figsize=(15, 7))\n",
    "ax = sns.barplot(x='is_double', y='percent', data=norm_target)\n",
    "\n",
    "plot_text(ax)\n",
    "\n",
    "plt.title('Target', fontsize=20)\n",
    "plt.xlabel('Target', fontsize=14)\n",
    "plt.ylabel('Проценты', fontsize=14)\n",
    "\n",
    "plt.xticks(fontsize=14)\n",
    "plt.yticks(fontsize=14)\n",
    "plt.show()"
   ]
  },
  {
   "cell_type": "markdown",
   "metadata": {},
   "source": [
    "**Вывод:** Присутствует огромный дисбаланс классов. "
   ]
  },
  {
   "cell_type": "markdown",
   "metadata": {},
   "source": [
    "### Гипотезы"
   ]
  },
  {
   "cell_type": "markdown",
   "metadata": {},
   "source": [
    "1. Дубликаты выкладывались в определенные месяцы/дни_недели.\n",
    "2. У дубликатов разница в цене минимальна (abs(base_price - cand_price)). \n",
    "3. Дубликаты, как правило, находятся в одинаковых категориях/подкатегориях (base_category_name/cand_category_name, base_subcategory_name/cand_subcategory_name, base_param1/cand_param1).\n",
    "4. У дублей локации и регионы совпадают. \n",
    "5. У дублей одинаковое колличество изображений. "
   ]
  },
  {
   "cell_type": "markdown",
   "metadata": {},
   "source": [
    "### Новые фичи и проверка гипотез"
   ]
  },
  {
   "cell_type": "code",
   "execution_count": 29,
   "metadata": {},
   "outputs": [
    {
     "name": "stdout",
     "output_type": "stream",
     "text": [
      "<class 'pandas.core.frame.DataFrame'>\n",
      "RangeIndex: 1766128 entries, 0 to 1766127\n",
      "Data columns (total 23 columns):\n",
      " #   Column                 Dtype   \n",
      "---  ------                 -----   \n",
      " 0   base_item_id           object  \n",
      " 1   cand_item_id           object  \n",
      " 2   group_id               int32   \n",
      " 3   action_date            object  \n",
      " 4   base_title             object  \n",
      " 5   cand_title             object  \n",
      " 6   base_description       object  \n",
      " 7   cand_description       object  \n",
      " 8   base_category_name     category\n",
      " 9   cand_category_name     category\n",
      " 10  base_subcategory_name  category\n",
      " 11  cand_subcategory_name  category\n",
      " 12  base_param1            category\n",
      " 13  cand_param1            category\n",
      " 14  base_price             int64   \n",
      " 15  cand_price             int64   \n",
      " 16  base_count_images      float64 \n",
      " 17  cand_count_images      float64 \n",
      " 18  base_title_image       object  \n",
      " 19  cand_title_image       object  \n",
      " 20  is_same_location       bool    \n",
      " 21  is_same_region         bool    \n",
      " 22  is_double              int8    \n",
      "dtypes: bool(2), category(6), float64(2), int32(1), int64(2), int8(1), object(9)\n",
      "memory usage: 200.5+ MB\n"
     ]
    }
   ],
   "source": [
    "# удалим строки с пропусками (их мало, а данных много, не должно сильно повлиять)\n",
    "df.dropna(inplace=True, ignore_index=True)\n",
    "df.info()"
   ]
  },
  {
   "cell_type": "markdown",
   "metadata": {},
   "source": [
    "**Вывод:** Удалено 6% строк. "
   ]
  },
  {
   "cell_type": "code",
   "execution_count": 90,
   "metadata": {
    "scrolled": true
   },
   "outputs": [
    {
     "data": {
      "image/png": "[encoded data removed]",
      "text/plain": [
       "<Figure size 1500x700 with 1 Axes>"
      ]
     },
     "metadata": {},
     "output_type": "display_data"
    }
   ],
   "source": [
    "def plot_text(ax: plt.Axes):\n",
    "    \"\"\"\n",
    "    Выводит текст на графике barplot\n",
    "    \"\"\"\n",
    "    for p in ax.patches:\n",
    "        percentage = '{:.1f}%'.format(p.get_height())\n",
    "        ax.annotate(\n",
    "            percentage,  # текст\n",
    "            # координата xy\n",
    "            (p.get_x() + p.get_width() / 2., p.get_height()),\n",
    "            # центрирование\n",
    "            ha='center',\n",
    "            va='center',\n",
    "            xytext=(0, 10),\n",
    "            # точка смещения относительно координаты\n",
    "            textcoords='offset points',\n",
    "            fontsize=14)\n",
    "        \n",
    "        \n",
    "# нормирование на размер датасета\n",
    "norm_target = (df\n",
    "               .target\n",
    "               .value_counts(normalize=True)\n",
    "               .mul(100)\n",
    "               .rename('percent')\n",
    "               .reset_index())\n",
    "\n",
    "plt.figure(figsize=(15, 7))\n",
    "ax = sns.barplot(x='target', y='percent', data=norm_target)\n",
    "\n",
    "plot_text(ax)\n",
    "\n",
    "plt.title('Target', fontsize=20)\n",
    "plt.xlabel('Target', fontsize=14)\n",
    "plt.ylabel('Проценты', fontsize=14)\n",
    "\n",
    "plt.xticks(fontsize=14)\n",
    "plt.yticks(fontsize=14)\n",
    "plt.show()"
   ]
  },
  {
   "cell_type": "markdown",
   "metadata": {},
   "source": [
    "**Вывод:** Дисбаланс таргета сильно не изменился. "
   ]
  },
  {
   "cell_type": "markdown",
   "metadata": {},
   "source": [
    "#### Гипотеза 1"
   ]
  },
  {
   "cell_type": "code",
   "execution_count": 30,
   "metadata": {
    "scrolled": true
   },
   "outputs": [
    {
     "data": {
      "image/png": "[encoded data removed]",
      "text/plain": [
       "<Figure size 640x480 with 1 Axes>"
      ]
     },
     "metadata": {},
     "output_type": "display_data"
    },
    {
     "data": {
      "image/png": "[encoded data removed]",
      "text/plain": [
       "<Figure size 640x480 with 1 Axes>"
      ]
     },
     "metadata": {},
     "output_type": "display_data"
    }
   ],
   "source": [
    "# преобразуем в datetime\n",
    "df['action_date'] = pd.to_datetime(df['action_date'])\n",
    "\n",
    "# добавим фичи\n",
    "df['day_of_week'] = df['action_date'].dt.dayofweek    # пн=0, вс=6\n",
    "df['month'] = df['action_date'].dt.month\n",
    "\n",
    "# день недели vs is_double\n",
    "sns.barplot(x='day_of_week', y='is_double', data=df)\n",
    "plt.title(\"День недели vs вероятность дубля\")\n",
    "plt.show()\n",
    "\n",
    "# месяц vs is_double\n",
    "sns.barplot(x='month', y='is_double', data=df)\n",
    "plt.title(\"Месяц vs вероятность дубля\")\n",
    "plt.show()"
   ]
  },
  {
   "cell_type": "code",
   "execution_count": 31,
   "metadata": {},
   "outputs": [],
   "source": [
    "def season_level(month):\n",
    "    \"\"\"Разделяет на сезоны по вероятностям дубля\"\"\"\n",
    "    if month in [6, 7]:\n",
    "        return 'high'\n",
    "    elif month in [1, 8, 9, 11]:\n",
    "        return 'low'\n",
    "    else:\n",
    "        return 'mid'\n",
    "\n",
    "df['season_level'] = df['month'].apply(season_level)\n",
    "df.drop(['action_date', 'month', 'day_of_week', 'group_id'], axis=1, inplace=True)"
   ]
  },
  {
   "cell_type": "code",
   "execution_count": 32,
   "metadata": {},
   "outputs": [],
   "source": [
    "df.rename(columns={'is_double': 'target'}, inplace=True)\n",
    "df['season_level'] = df['season_level'].astype('category')"
   ]
  },
  {
   "cell_type": "code",
   "execution_count": 28,
   "metadata": {},
   "outputs": [],
   "source": [
    "# сохраняем предобработанный датасет\n",
    "#df.to_parquet('../data/df.parquet', index=False)"
   ]
  },
  {
   "cell_type": "markdown",
   "metadata": {},
   "source": [
    "**Выводы:**\n",
    "- день недели практически не влияет на таргет\n",
    "- от месяца прослеживается зависимость, разобьем их на три составляющиее (высокая вероятность дубля, средняя, низкая), тем самым создав новую фичу\n",
    "- удалили action_date, month, day_of_week, а также group_id (ранее не удалялась, но очевидно не несет информации)\n",
    "- переименовали is_double в target\n",
    "- преобразовали season_level в category"
   ]
  },
  {
   "cell_type": "markdown",
   "metadata": {},
   "source": [
    "#### Гипотеза 2"
   ]
  },
  {
   "cell_type": "code",
   "execution_count": 3,
   "metadata": {},
   "outputs": [],
   "source": [
    "# разница в цене\n",
    "df['price_diff'] = abs(df['base_price'] - df['cand_price'])"
   ]
  },
  {
   "cell_type": "code",
   "execution_count": null,
   "metadata": {},
   "outputs": [],
   "source": [
    "# прологарифмируем фичу, так как присутствуют сильные выбросы (log(1 + x))\n",
    "df['price_diff_log'] = np.log1p(df['price_diff'])"
   ]
  },
  {
   "cell_type": "code",
   "execution_count": 25,
   "metadata": {},
   "outputs": [
    {
     "data": {
      "image/png": "[encoded data removed]",
      "text/plain": [
       "<Figure size 640x480 with 1 Axes>"
      ]
     },
     "metadata": {},
     "output_type": "display_data"
    }
   ],
   "source": [
    "sns.boxplot(x='target', y='price_diff_log', data=df)\n",
    "plt.title('Зависимость price_diff в зависимости от target')\n",
    "plt.show()"
   ]
  },
  {
   "cell_type": "code",
   "execution_count": 26,
   "metadata": {},
   "outputs": [
    {
     "data": {
      "image/png": "[encoded data removed]",
      "text/plain": [
       "<Figure size 640x480 with 1 Axes>"
      ]
     },
     "metadata": {},
     "output_type": "display_data"
    }
   ],
   "source": [
    "sns.kdeplot(data=df, x='price_diff_log', hue='target', fill=True, common_norm=False)\n",
    "plt.title('Распределение price_diff в зависимости от target')\n",
    "plt.show()"
   ]
  },
  {
   "cell_type": "code",
   "execution_count": 27,
   "metadata": {},
   "outputs": [],
   "source": [
    "# создадим флаг выброса как фичу\n",
    "Q1 = df['price_diff_log'].quantile(0.25)\n",
    "Q3 = df['price_diff_log'].quantile(0.75)\n",
    "IQR = Q3 - Q1\n",
    "\n",
    "# нижняя и верхняя границы для определения выбросов\n",
    "lower_bound = Q1 - 1.5 * IQR\n",
    "upper_bound = Q3 + 1.5 * IQR\n",
    "\n",
    "# флаг выброса\n",
    "df['price_diff_is_outlier'] = (df['price_diff_log'] < lower_bound) | (\n",
    "    df['price_diff_log'] > upper_bound)"
   ]
  },
  {
   "cell_type": "code",
   "execution_count": 30,
   "metadata": {},
   "outputs": [
    {
     "data": {
      "text/html": [
       "<div>\n",
       "<style scoped>\n",
       "    .dataframe tbody tr th:only-of-type {\n",
       "        vertical-align: middle;\n",
       "    }\n",
       "\n",
       "    .dataframe tbody tr th {\n",
       "        vertical-align: top;\n",
       "    }\n",
       "\n",
       "    .dataframe thead th {\n",
       "        text-align: right;\n",
       "    }\n",
       "</style>\n",
       "<table border=\"1\" class=\"dataframe\">\n",
       "  <thead>\n",
       "    <tr style=\"text-align: right;\">\n",
       "      <th></th>\n",
       "      <th>base_item_id</th>\n",
       "      <th>cand_item_id</th>\n",
       "      <th>base_title</th>\n",
       "      <th>cand_title</th>\n",
       "      <th>base_description</th>\n",
       "      <th>cand_description</th>\n",
       "      <th>base_category_name</th>\n",
       "      <th>cand_category_name</th>\n",
       "      <th>base_subcategory_name</th>\n",
       "      <th>cand_subcategory_name</th>\n",
       "      <th>...</th>\n",
       "      <th>base_count_images</th>\n",
       "      <th>cand_count_images</th>\n",
       "      <th>base_title_image</th>\n",
       "      <th>cand_title_image</th>\n",
       "      <th>is_same_location</th>\n",
       "      <th>is_same_region</th>\n",
       "      <th>target</th>\n",
       "      <th>season_level</th>\n",
       "      <th>price_diff_log</th>\n",
       "      <th>price_diff_is_outlier</th>\n",
       "    </tr>\n",
       "  </thead>\n",
       "  <tbody>\n",
       "    <tr>\n",
       "      <th>0</th>\n",
       "      <td>13ade32c3e614d939faad4ab68350bc52ce8848b7a64bd...</td>\n",
       "      <td>087e7f3dbec9326532f9fc784b68de294cb2d905d33bdf...</td>\n",
       "      <td>Зимние ботинки ecco</td>\n",
       "      <td>Кигуpуммии мышкa inextenso</td>\n",
       "      <td>ботинки экко,униcекc,зимние\\nноcилиcь один cез...</td>\n",
       "      <td>.</td>\n",
       "      <td>Личные вещи</td>\n",
       "      <td>Личные вещи</td>\n",
       "      <td>Детская одежда и обувь</td>\n",
       "      <td>Детская одежда и обувь</td>\n",
       "      <td>...</td>\n",
       "      <td>3.0</td>\n",
       "      <td>3.0</td>\n",
       "      <td>40c72f08e0bb10b55e0605781481df2b5557b094aee695...</td>\n",
       "      <td>ebc7537d69a1c8c1a6e7ea3c5b27ab4d4a360e6032d158...</td>\n",
       "      <td>True</td>\n",
       "      <td>True</td>\n",
       "      <td>0</td>\n",
       "      <td>mid</td>\n",
       "      <td>7.378384</td>\n",
       "      <td>False</td>\n",
       "    </tr>\n",
       "    <tr>\n",
       "      <th>1</th>\n",
       "      <td>13ade32c3e614d939faad4ab68350bc52ce8848b7a64bd...</td>\n",
       "      <td>5d81d4230671ed22e40ab9e05bb63fef5ad6766454714a...</td>\n",
       "      <td>Зимние ботинки ecco</td>\n",
       "      <td>Штaны для девочки zara</td>\n",
       "      <td>ботинки экко,униcекc,зимние\\nноcилиcь один cез...</td>\n",
       "      <td>штaны новые,ноcили пapу paз</td>\n",
       "      <td>Личные вещи</td>\n",
       "      <td>Личные вещи</td>\n",
       "      <td>Детская одежда и обувь</td>\n",
       "      <td>Детская одежда и обувь</td>\n",
       "      <td>...</td>\n",
       "      <td>3.0</td>\n",
       "      <td>3.0</td>\n",
       "      <td>40c72f08e0bb10b55e0605781481df2b5557b094aee695...</td>\n",
       "      <td>8f8e254c919ecb28a3424fde4cd1aeca75043584ddd02c...</td>\n",
       "      <td>True</td>\n",
       "      <td>True</td>\n",
       "      <td>0</td>\n",
       "      <td>mid</td>\n",
       "      <td>7.346655</td>\n",
       "      <td>False</td>\n",
       "    </tr>\n",
       "    <tr>\n",
       "      <th>2</th>\n",
       "      <td>13ade32c3e614d939faad4ab68350bc52ce8848b7a64bd...</td>\n",
       "      <td>eff6d2ef2c44dc7361d389d3a9ce243e6e3079675c0b27...</td>\n",
       "      <td>Зимние ботинки ecco</td>\n",
       "      <td>Рубaшкa acoola 152</td>\n",
       "      <td>ботинки экко,униcекc,зимние\\nноcилиcь один cез...</td>\n",
       "      <td>новaя,не ноcили</td>\n",
       "      <td>Личные вещи</td>\n",
       "      <td>Личные вещи</td>\n",
       "      <td>Детская одежда и обувь</td>\n",
       "      <td>Детская одежда и обувь</td>\n",
       "      <td>...</td>\n",
       "      <td>3.0</td>\n",
       "      <td>2.0</td>\n",
       "      <td>40c72f08e0bb10b55e0605781481df2b5557b094aee695...</td>\n",
       "      <td>a92f75d133c370f8b5d135d29144a69e1179d522e06d78...</td>\n",
       "      <td>True</td>\n",
       "      <td>True</td>\n",
       "      <td>0</td>\n",
       "      <td>mid</td>\n",
       "      <td>7.467942</td>\n",
       "      <td>False</td>\n",
       "    </tr>\n",
       "    <tr>\n",
       "      <th>3</th>\n",
       "      <td>d0b78018657dff01508954bb58d4f03f1ddf11525d8d26...</td>\n",
       "      <td>13ade32c3e614d939faad4ab68350bc52ce8848b7a64bd...</td>\n",
       "      <td>Куpткa зимняя и ветpовкa</td>\n",
       "      <td>Зимние ботинки ecco</td>\n",
       "      <td>зимнюю куpтку ноcили меньше cезонa,почти новaя...</td>\n",
       "      <td>ботинки экко,униcекc,зимние\\nноcилиcь один cез...</td>\n",
       "      <td>Личные вещи</td>\n",
       "      <td>Личные вещи</td>\n",
       "      <td>Детская одежда и обувь</td>\n",
       "      <td>Детская одежда и обувь</td>\n",
       "      <td>...</td>\n",
       "      <td>4.0</td>\n",
       "      <td>3.0</td>\n",
       "      <td>181549e281126b799e54980db0b194918479e0db9be2ab...</td>\n",
       "      <td>40c72f08e0bb10b55e0605781481df2b5557b094aee695...</td>\n",
       "      <td>True</td>\n",
       "      <td>True</td>\n",
       "      <td>0</td>\n",
       "      <td>mid</td>\n",
       "      <td>7.972811</td>\n",
       "      <td>False</td>\n",
       "    </tr>\n",
       "    <tr>\n",
       "      <th>4</th>\n",
       "      <td>d0b78018657dff01508954bb58d4f03f1ddf11525d8d26...</td>\n",
       "      <td>b960b579cd9b5aebc6ac73d5042ba13ae8747490cc8a59...</td>\n",
       "      <td>Куpткa зимняя и ветpовкa</td>\n",
       "      <td>Плaщ детcкий next</td>\n",
       "      <td>зимнюю куpтку ноcили меньше cезонa,почти новaя...</td>\n",
       "      <td>.пеpед отпpaвкой отпapю)</td>\n",
       "      <td>Личные вещи</td>\n",
       "      <td>Личные вещи</td>\n",
       "      <td>Детская одежда и обувь</td>\n",
       "      <td>Детская одежда и обувь</td>\n",
       "      <td>...</td>\n",
       "      <td>4.0</td>\n",
       "      <td>5.0</td>\n",
       "      <td>181549e281126b799e54980db0b194918479e0db9be2ab...</td>\n",
       "      <td>eda895d18bd2d5bba2b277475667835d7ab7f9186ba32e...</td>\n",
       "      <td>True</td>\n",
       "      <td>True</td>\n",
       "      <td>0</td>\n",
       "      <td>mid</td>\n",
       "      <td>8.243019</td>\n",
       "      <td>False</td>\n",
       "    </tr>\n",
       "  </tbody>\n",
       "</table>\n",
       "<p>5 rows × 22 columns</p>\n",
       "</div>"
      ],
      "text/plain": [
       "                                        base_item_id  \\\n",
       "0  13ade32c3e614d939faad4ab68350bc52ce8848b7a64bd...   \n",
       "1  13ade32c3e614d939faad4ab68350bc52ce8848b7a64bd...   \n",
       "2  13ade32c3e614d939faad4ab68350bc52ce8848b7a64bd...   \n",
       "3  d0b78018657dff01508954bb58d4f03f1ddf11525d8d26...   \n",
       "4  d0b78018657dff01508954bb58d4f03f1ddf11525d8d26...   \n",
       "\n",
       "                                        cand_item_id  \\\n",
       "0  087e7f3dbec9326532f9fc784b68de294cb2d905d33bdf...   \n",
       "1  5d81d4230671ed22e40ab9e05bb63fef5ad6766454714a...   \n",
       "2  eff6d2ef2c44dc7361d389d3a9ce243e6e3079675c0b27...   \n",
       "3  13ade32c3e614d939faad4ab68350bc52ce8848b7a64bd...   \n",
       "4  b960b579cd9b5aebc6ac73d5042ba13ae8747490cc8a59...   \n",
       "\n",
       "                 base_title                  cand_title  \\\n",
       "0       Зимние ботинки ecco  Кигуpуммии мышкa inextenso   \n",
       "1       Зимние ботинки ecco      Штaны для девочки zara   \n",
       "2       Зимние ботинки ecco          Рубaшкa acoola 152   \n",
       "3  Куpткa зимняя и ветpовкa         Зимние ботинки ecco   \n",
       "4  Куpткa зимняя и ветpовкa           Плaщ детcкий next   \n",
       "\n",
       "                                    base_description  \\\n",
       "0  ботинки экко,униcекc,зимние\\nноcилиcь один cез...   \n",
       "1  ботинки экко,униcекc,зимние\\nноcилиcь один cез...   \n",
       "2  ботинки экко,униcекc,зимние\\nноcилиcь один cез...   \n",
       "3  зимнюю куpтку ноcили меньше cезонa,почти новaя...   \n",
       "4  зимнюю куpтку ноcили меньше cезонa,почти новaя...   \n",
       "\n",
       "                                    cand_description base_category_name  \\\n",
       "0                                                  .        Личные вещи   \n",
       "1                        штaны новые,ноcили пapу paз        Личные вещи   \n",
       "2                                    новaя,не ноcили        Личные вещи   \n",
       "3  ботинки экко,униcекc,зимние\\nноcилиcь один cез...        Личные вещи   \n",
       "4                           .пеpед отпpaвкой отпapю)        Личные вещи   \n",
       "\n",
       "  cand_category_name   base_subcategory_name   cand_subcategory_name  ...  \\\n",
       "0        Личные вещи  Детская одежда и обувь  Детская одежда и обувь  ...   \n",
       "1        Личные вещи  Детская одежда и обувь  Детская одежда и обувь  ...   \n",
       "2        Личные вещи  Детская одежда и обувь  Детская одежда и обувь  ...   \n",
       "3        Личные вещи  Детская одежда и обувь  Детская одежда и обувь  ...   \n",
       "4        Личные вещи  Детская одежда и обувь  Детская одежда и обувь  ...   \n",
       "\n",
       "  base_count_images cand_count_images  \\\n",
       "0               3.0               3.0   \n",
       "1               3.0               3.0   \n",
       "2               3.0               2.0   \n",
       "3               4.0               3.0   \n",
       "4               4.0               5.0   \n",
       "\n",
       "                                    base_title_image  \\\n",
       "0  40c72f08e0bb10b55e0605781481df2b5557b094aee695...   \n",
       "1  40c72f08e0bb10b55e0605781481df2b5557b094aee695...   \n",
       "2  40c72f08e0bb10b55e0605781481df2b5557b094aee695...   \n",
       "3  181549e281126b799e54980db0b194918479e0db9be2ab...   \n",
       "4  181549e281126b799e54980db0b194918479e0db9be2ab...   \n",
       "\n",
       "                                    cand_title_image is_same_location  \\\n",
       "0  ebc7537d69a1c8c1a6e7ea3c5b27ab4d4a360e6032d158...             True   \n",
       "1  8f8e254c919ecb28a3424fde4cd1aeca75043584ddd02c...             True   \n",
       "2  a92f75d133c370f8b5d135d29144a69e1179d522e06d78...             True   \n",
       "3  40c72f08e0bb10b55e0605781481df2b5557b094aee695...             True   \n",
       "4  eda895d18bd2d5bba2b277475667835d7ab7f9186ba32e...             True   \n",
       "\n",
       "  is_same_region  target  season_level  price_diff_log price_diff_is_outlier  \n",
       "0           True       0           mid        7.378384                 False  \n",
       "1           True       0           mid        7.346655                 False  \n",
       "2           True       0           mid        7.467942                 False  \n",
       "3           True       0           mid        7.972811                 False  \n",
       "4           True       0           mid        8.243019                 False  \n",
       "\n",
       "[5 rows x 22 columns]"
      ]
     },
     "execution_count": 30,
     "metadata": {},
     "output_type": "execute_result"
    }
   ],
   "source": [
    "df.drop(['base_price', 'cand_price', 'price_diff'], axis=1, inplace=True)\n",
    "df['price_diff_log'] = df['price_diff_log'].astype('float32')\n",
    "df.head()"
   ]
  },
  {
   "cell_type": "markdown",
   "metadata": {},
   "source": [
    "**Выводы:**\n",
    "1. Присутствуют экстремальные выбросы, для информативности фичи, пришлось ее логарифмировать по правилу log(1 + x) (защита от нулевых значений). \n",
    "2. При target=1 медиана ниже, распределение больше сдвинуто к 0 чем при target=0, что свидетельствует о том что, чем меньше разница в цене, тем выше вероятность дубля. \n",
    "3. Добавлены новые фичи в датасет: - price_diff_log (логорифмируемая разница в цене); - price_diff_is_outlier (флаг выброса). \n",
    "4. Не забыть на обучении модели и инференсе, также логорифмировать!!!"
   ]
  },
  {
   "cell_type": "markdown",
   "metadata": {},
   "source": [
    "#### Гипотеза 3"
   ]
  },
  {
   "cell_type": "code",
   "execution_count": 22,
   "metadata": {},
   "outputs": [],
   "source": [
    "# чистка датасета\n",
    "def cleaned_text(text):\n",
    "    \"\"\"Простая очистка текста\"\"\"\n",
    "    # преобразуем text в строку, если это не строка\n",
    "    text = str(text) if text is not None else ''\n",
    "    text = text.lower()\n",
    "    text = re.sub(r'[^а-яёa-z0-9\\s.,*!?:-]', '', text) # удаление лишних символов (кроме пунктуации)\n",
    "    text = re.sub(r'\\s+', ' ', text).strip() # удаление лишних пробелов\n",
    "    text = re.sub(r'^[^\\w]+', '', text) # удаление пунктуации в начале строки\n",
    "    text = text.strip(' .') # убирает лишние пробелы и точки в начале и в конце строки\n",
    "    return text\n",
    "\n",
    "# применяем к датасету\n",
    "for i in df.columns:\n",
    "    if df[i].dtype == 'object':\n",
    "        df[i] = df[i].apply(cleaned_text)\n",
    "        df[i] = df[i].astype('object')\n",
    "    elif df[i].dtype == 'category':\n",
    "        df[i] = df[i].apply(cleaned_text)\n",
    "        df[i] = df[i].astype('category')\n",
    "        \n",
    "df.head()"
   ]
  },
  {
   "cell_type": "code",
   "execution_count": 54,
   "metadata": {
    "scrolled": true
   },
   "outputs": [],
   "source": [
    "# совпадение категорий\n",
    "df['category_name'] = (df['base_category_name'] == df['cand_category_name']).astype(int)\n",
    "df['subcategory_name'] = (df['base_subcategory_name'] == df['cand_subcategory_name']).astype(int)\n",
    "df['param1'] = (df['base_param1'].astype(str) == df['cand_param1'].astype(str)).astype(int)"
   ]
  },
  {
   "cell_type": "code",
   "execution_count": 75,
   "metadata": {
    "scrolled": true
   },
   "outputs": [
    {
     "data": {
      "image/png": "[encoded data removed]",
      "text/plain": [
       "<Figure size 640x480 with 1 Axes>"
      ]
     },
     "metadata": {},
     "output_type": "display_data"
    }
   ],
   "source": [
    "sns.barplot(x='category_name', y='target', data=df)\n",
    "plt.show()"
   ]
  },
  {
   "cell_type": "code",
   "execution_count": 86,
   "metadata": {},
   "outputs": [
    {
     "name": "stdout",
     "output_type": "stream",
     "text": [
      "Chi² = 0.00\n",
      "p-value = 0.9639\n",
      "Между значением и таргетом нет статистической зависимости\n"
     ]
    }
   ],
   "source": [
    "# таблица сопряженности\n",
    "contingency = pd.crosstab(df['category_name'], df['target'])\n",
    "\n",
    "chi2_stat, p_val, dof, expected = chi2_contingency(contingency)\n",
    "print(f\"Chi² = {chi2_stat:.2f}\")\n",
    "print(f\"p-value = {p_val:.4f}\")\n",
    "\n",
    "if p_val < 0.05:\n",
    "    print('Между значением и таргетом есть статистическая зависимость')\n",
    "else:\n",
    "    print('Между значением и таргетом нет статистической зависимости')"
   ]
  },
  {
   "cell_type": "code",
   "execution_count": 76,
   "metadata": {
    "scrolled": true
   },
   "outputs": [
    {
     "data": {
      "image/png": "[encoded data removed]",
      "text/plain": [
       "<Figure size 640x480 with 1 Axes>"
      ]
     },
     "metadata": {},
     "output_type": "display_data"
    }
   ],
   "source": [
    "sns.barplot(x='subcategory_name', y='target', data=df)\n",
    "plt.show()"
   ]
  },
  {
   "cell_type": "code",
   "execution_count": 85,
   "metadata": {},
   "outputs": [
    {
     "name": "stdout",
     "output_type": "stream",
     "text": [
      "Chi² = 1.91\n",
      "p-value = 0.1672\n",
      "Между значением и таргетом нет статистической зависимости\n"
     ]
    }
   ],
   "source": [
    "# таблица сопряженности\n",
    "contingency = pd.crosstab(df['subcategory_name'], df['target'])\n",
    "\n",
    "chi2_stat, p_val, dof, expected = chi2_contingency(contingency)\n",
    "print(f\"Chi² = {chi2_stat:.2f}\")\n",
    "print(f\"p-value = {p_val:.4f}\")\n",
    "\n",
    "if p_val < 0.05:\n",
    "    print('Между значением и таргетом есть статистическая зависимость')\n",
    "else:\n",
    "    print('Между значением и таргетом нет статистической зависимости')"
   ]
  },
  {
   "cell_type": "code",
   "execution_count": 109,
   "metadata": {
    "scrolled": true
   },
   "outputs": [
    {
     "data": {
      "image/png": "[encoded data removed]",
      "text/plain": [
       "<Figure size 1200x700 with 1 Axes>"
      ]
     },
     "metadata": {},
     "output_type": "display_data"
    }
   ],
   "source": [
    "# группируем param1 по target и нормируем значения на размер датасета\n",
    "param1_target = (\n",
    "    df.groupby('target')['param1']\n",
    "    .value_counts(normalize=True)\n",
    "    .rename('percent')\n",
    "    .mul(100)\n",
    "    .reset_index()\n",
    ")\n",
    "\n",
    "plt.figure(figsize=(12, 7))\n",
    "ax = sns.barplot(x='target', y='percent', hue='param1', data=param1_target)\n",
    "plot_text(ax)\n",
    "\n",
    "plt.title('Распределение param1 в зависимости от target')\n",
    "plt.ylabel('Проценты')\n",
    "plt.xlabel('Target')\n",
    "plt.show()"
   ]
  },
  {
   "cell_type": "code",
   "execution_count": 87,
   "metadata": {},
   "outputs": [
    {
     "name": "stdout",
     "output_type": "stream",
     "text": [
      "Chi² = 6718.07\n",
      "p-value = 0.0000\n",
      "Между значением и таргетом есть статистическая зависимость\n"
     ]
    }
   ],
   "source": [
    "# таблица сопряженности\n",
    "contingency = pd.crosstab(df['param1'], df['target'])\n",
    "\n",
    "chi2_stat, p_val, dof, expected = chi2_contingency(contingency)\n",
    "print(f\"Chi² = {chi2_stat:.2f}\")\n",
    "print(f\"p-value = {p_val:.4f}\")\n",
    "\n",
    "if p_val < 0.05:\n",
    "    print('Между значением и таргетом есть статистическая зависимость')\n",
    "else:\n",
    "    print('Между значением и таргетом нет статистической зависимости')"
   ]
  },
  {
   "cell_type": "code",
   "execution_count": 108,
   "metadata": {},
   "outputs": [],
   "source": [
    "df.drop(['base_category_name', \n",
    "         'cand_category_name'\n",
    "         'cand_subcategory_name',\n",
    "         'base_subcategory_name',\n",
    "         'cand_subcategory_name',\n",
    "         'base_param1',\n",
    "         'cand_param1',\n",
    "         'category_name',\n",
    "         'subcategory_name'], axis=1, inplace=True)\n",
    "\n",
    "df['param1'] = df['param1'].astype('int8')"
   ]
  },
  {
   "cell_type": "code",
   "execution_count": 114,
   "metadata": {
    "scrolled": true
   },
   "outputs": [
    {
     "name": "stdout",
     "output_type": "stream",
     "text": [
      "<class 'pandas.core.frame.DataFrame'>\n",
      "RangeIndex: 1766128 entries, 0 to 1766127\n",
      "Data columns (total 17 columns):\n",
      " #   Column                 Dtype   \n",
      "---  ------                 -----   \n",
      " 0   base_item_id           object  \n",
      " 1   cand_item_id           object  \n",
      " 2   base_title             object  \n",
      " 3   cand_title             object  \n",
      " 4   base_description       object  \n",
      " 5   cand_description       object  \n",
      " 6   base_count_images      float64 \n",
      " 7   cand_count_images      float64 \n",
      " 8   base_title_image       object  \n",
      " 9   cand_title_image       object  \n",
      " 10  is_same_location       bool    \n",
      " 11  is_same_region         bool    \n",
      " 12  target                 int8    \n",
      " 13  season_level           category\n",
      " 14  price_diff_log         float32 \n",
      " 15  price_diff_is_outlier  bool    \n",
      " 16  param1                 int8    \n",
      "dtypes: bool(3), category(1), float32(1), float64(2), int8(2), object(8)\n",
      "memory usage: 151.6+ MB\n"
     ]
    }
   ],
   "source": [
    "df.info()"
   ]
  },
  {
   "cell_type": "markdown",
   "metadata": {},
   "source": [
    "**Выводы:**\n",
    "1. Произведена простейшая чистка текста (нижний регистр, удаление лишних символов, пробелов).\n",
    "2. На основе графика и оценки критерия Chi² таргет не зависит от category_name и subcategory_name, но есть небольшая зависимость от param1(0 - значения разные, 1 - значения одинаковы). У дублей больше одинаковых значений, также после теста Chi² найдена статистическая связь. \n",
    "3. Добавлена фича param1 (int8), остальные исследованные из данной категории удалены."
   ]
  },
  {
   "cell_type": "markdown",
   "metadata": {},
   "source": [
    "#### Гипотеза 4"
   ]
  },
  {
   "cell_type": "code",
   "execution_count": 15,
   "metadata": {
    "scrolled": true
   },
   "outputs": [
    {
     "data": {
      "image/png": "[encoded data removed]",
      "text/plain": [
       "<Figure size 1200x700 with 1 Axes>"
      ]
     },
     "metadata": {},
     "output_type": "display_data"
    }
   ],
   "source": [
    "# группируем is_same_region по target и нормируем значения на размер датасета\n",
    "is_same_region_target = (\n",
    "    df.groupby('target')['is_same_region']\n",
    "    .value_counts(normalize=True)\n",
    "    .rename('percent')\n",
    "    .mul(100)\n",
    "    .reset_index()\n",
    ")\n",
    "\n",
    "plt.figure(figsize=(12, 7))\n",
    "ax = sns.barplot(x='target', \n",
    "                 y='percent', \n",
    "                 hue='is_same_region',\n",
    "                 data=is_same_region_target)\n",
    "plot_text(ax)\n",
    "\n",
    "plt.title('Распределение is_same_region в зависимости от target')\n",
    "plt.ylabel('Проценты')\n",
    "plt.xlabel('Target')\n",
    "plt.show()"
   ]
  },
  {
   "cell_type": "code",
   "execution_count": 17,
   "metadata": {
    "scrolled": true
   },
   "outputs": [
    {
     "data": {
      "image/png": "[encoded data removed]",
      "text/plain": [
       "<Figure size 1200x700 with 1 Axes>"
      ]
     },
     "metadata": {},
     "output_type": "display_data"
    }
   ],
   "source": [
    "# группируем is_same_location по target и нормируем значения на размер датасета\n",
    "is_same_location_target = (\n",
    "    df.groupby('target')['is_same_location']\n",
    "    .value_counts(normalize=True)\n",
    "    .rename('percent')\n",
    "    .mul(100)\n",
    "    .reset_index()\n",
    ")\n",
    "\n",
    "plt.figure(figsize=(12, 7))\n",
    "ax = sns.barplot(x='target', \n",
    "                 y='percent', \n",
    "                 hue='is_same_location', \n",
    "                 data=is_same_location_target)\n",
    "plot_text(ax)\n",
    "\n",
    "plt.title('Распределение is_same_location в зависимости от target')\n",
    "plt.ylabel('Проценты')\n",
    "plt.xlabel('Target')\n",
    "plt.show()"
   ]
  },
  {
   "cell_type": "code",
   "execution_count": 18,
   "metadata": {},
   "outputs": [
    {
     "name": "stdout",
     "output_type": "stream",
     "text": [
      "<class 'pandas.core.frame.DataFrame'>\n",
      "RangeIndex: 1766128 entries, 0 to 1766127\n",
      "Data columns (total 15 columns):\n",
      " #   Column                 Dtype   \n",
      "---  ------                 -----   \n",
      " 0   base_item_id           object  \n",
      " 1   cand_item_id           object  \n",
      " 2   base_title             object  \n",
      " 3   cand_title             object  \n",
      " 4   base_description       object  \n",
      " 5   cand_description       object  \n",
      " 6   base_count_images      float64 \n",
      " 7   cand_count_images      float64 \n",
      " 8   base_title_image       object  \n",
      " 9   cand_title_image       object  \n",
      " 10  target                 int8    \n",
      " 11  season_level           category\n",
      " 12  price_diff_log         float32 \n",
      " 13  price_diff_is_outlier  bool    \n",
      " 14  param1                 int8    \n",
      "dtypes: bool(1), category(1), float32(1), float64(2), int8(2), object(8)\n",
      "memory usage: 148.2+ MB\n"
     ]
    }
   ],
   "source": [
    "df.drop(['is_same_location', 'is_same_region'], axis=1, inplace=True)\n",
    "df.info()"
   ]
  },
  {
   "cell_type": "markdown",
   "metadata": {},
   "source": [
    "**Вывод:** Гипотеза не подтвердилась. Взаимосвязи между локацией и таргетом нет. Эту фичу удалим. "
   ]
  },
  {
   "cell_type": "markdown",
   "metadata": {},
   "source": [
    "#### Гипотеза 5"
   ]
  },
  {
   "cell_type": "code",
   "execution_count": 19,
   "metadata": {},
   "outputs": [],
   "source": [
    "# разница в количестве изображений\n",
    "df['count_images_diff'] = abs(df['base_count_images'] - df['cand_count_images'])"
   ]
  },
  {
   "cell_type": "code",
   "execution_count": 20,
   "metadata": {
    "scrolled": true
   },
   "outputs": [
    {
     "data": {
      "image/png": "[encoded data removed]",
      "text/plain": [
       "<Figure size 640x480 with 1 Axes>"
      ]
     },
     "metadata": {},
     "output_type": "display_data"
    }
   ],
   "source": [
    "sns.boxplot(x='target', y='count_images_diff', data=df)\n",
    "plt.title('Зависимость count_images_diff в зависимости от target')\n",
    "plt.show()"
   ]
  },
  {
   "cell_type": "code",
   "execution_count": 21,
   "metadata": {
    "scrolled": true
   },
   "outputs": [
    {
     "data": {
      "image/png": "[encoded data removed]",
      "text/plain": [
       "<Figure size 640x480 with 1 Axes>"
      ]
     },
     "metadata": {},
     "output_type": "display_data"
    }
   ],
   "source": [
    "sns.kdeplot(data=df, x='count_images_diff', hue='target', fill=True, common_norm=False)\n",
    "plt.title('Распределение count_images_diff в зависимости от target')\n",
    "plt.show()"
   ]
  },
  {
   "cell_type": "code",
   "execution_count": 24,
   "metadata": {},
   "outputs": [
    {
     "name": "stdout",
     "output_type": "stream",
     "text": [
      "<class 'pandas.core.frame.DataFrame'>\n",
      "RangeIndex: 1766128 entries, 0 to 1766127\n",
      "Data columns (total 14 columns):\n",
      " #   Column                 Dtype   \n",
      "---  ------                 -----   \n",
      " 0   base_item_id           object  \n",
      " 1   cand_item_id           object  \n",
      " 2   base_title             object  \n",
      " 3   cand_title             object  \n",
      " 4   base_description       object  \n",
      " 5   cand_description       object  \n",
      " 6   base_title_image       object  \n",
      " 7   cand_title_image       object  \n",
      " 8   target                 int8    \n",
      " 9   season_level           category\n",
      " 10  price_diff_log         float32 \n",
      " 11  price_diff_is_outlier  bool    \n",
      " 12  param1                 int8    \n",
      " 13  count_images_diff      int8    \n",
      "dtypes: bool(1), category(1), float32(1), int8(3), object(8)\n",
      "memory usage: 123.0+ MB\n"
     ]
    }
   ],
   "source": [
    "df.drop(['base_count_images', 'cand_count_images'], axis=1, inplace=True)\n",
    "df['count_images_diff'] = df['count_images_diff'].astype('int8')\n",
    "df.info()"
   ]
  },
  {
   "cell_type": "markdown",
   "metadata": {},
   "source": [
    "**Выводы:**\n",
    "1. У дубликатов медиана и 50% наблюдений находятся ниже (ближе к нулю) чем у недубликатов. Гипотеза подвердилась. \n",
    "2. Столбцы base_count_images, cand_count_images - удалены.\n",
    "3. Добавлена фича count_images_diff (int8) - разница в количестве изображений в объявлении базовом и кандидата. "
   ]
  },
  {
   "cell_type": "markdown",
   "metadata": {},
   "source": [
    "## Финальный датасет"
   ]
  },
  {
   "cell_type": "code",
   "execution_count": 15,
   "metadata": {},
   "outputs": [
    {
     "name": "stdout",
     "output_type": "stream",
     "text": [
      "<class 'pandas.core.frame.DataFrame'>\n",
      "RangeIndex: 1766128 entries, 0 to 1766127\n",
      "Data columns (total 12 columns):\n",
      " #   Column                 Dtype   \n",
      "---  ------                 -----   \n",
      " 0   base_item_id           object  \n",
      " 1   cand_item_id           object  \n",
      " 2   base_title_image       object  \n",
      " 3   cand_title_image       object  \n",
      " 4   season_level           category\n",
      " 5   price_diff_log         float32 \n",
      " 6   price_diff_is_outlier  bool    \n",
      " 7   param1                 int8    \n",
      " 8   count_images_diff      int8    \n",
      " 9   base_text              object  \n",
      " 10  cand_text              object  \n",
      " 11  target                 int8    \n",
      "dtypes: bool(1), category(1), float32(1), int8(3), object(6)\n",
      "memory usage: 96.0+ MB\n"
     ]
    }
   ],
   "source": [
    "def combine_and_drop_columns(df):\n",
    "    \"\"\"Соединяет текстовые фичи в новую и удаляет старые столбцы\"\"\"\n",
    "    df['base_text'] = df['base_title'].astype(\n",
    "        str) + '. ' + df['base_description'].astype(str)\n",
    "    df['cand_text'] = df['cand_title'].astype(\n",
    "        str) + '. ' + df['cand_description'].astype(str)\n",
    "    df.drop(\n",
    "        ['base_title', 'base_description', 'cand_title', 'cand_description'],\n",
    "        axis=1,\n",
    "        inplace=True)\n",
    "\n",
    "\n",
    "combine_and_drop_columns(df)\n",
    "df['target'] = df.pop('target')  # переносит target в последнюю колонку\n",
    "df.info()"
   ]
  },
  {
   "cell_type": "code",
   "execution_count": 23,
   "metadata": {},
   "outputs": [
    {
     "data": {
      "text/html": [
       "<div>\n",
       "<style scoped>\n",
       "    .dataframe tbody tr th:only-of-type {\n",
       "        vertical-align: middle;\n",
       "    }\n",
       "\n",
       "    .dataframe tbody tr th {\n",
       "        vertical-align: top;\n",
       "    }\n",
       "\n",
       "    .dataframe thead th {\n",
       "        text-align: right;\n",
       "    }\n",
       "</style>\n",
       "<table border=\"1\" class=\"dataframe\">\n",
       "  <thead>\n",
       "    <tr style=\"text-align: right;\">\n",
       "      <th></th>\n",
       "      <th>base_item_id</th>\n",
       "      <th>cand_item_id</th>\n",
       "      <th>base_title_image</th>\n",
       "      <th>cand_title_image</th>\n",
       "      <th>season_level</th>\n",
       "      <th>price_diff_log</th>\n",
       "      <th>price_diff_is_outlier</th>\n",
       "      <th>param1</th>\n",
       "      <th>count_images_diff</th>\n",
       "      <th>base_text</th>\n",
       "      <th>cand_text</th>\n",
       "      <th>target</th>\n",
       "    </tr>\n",
       "  </thead>\n",
       "  <tbody>\n",
       "    <tr>\n",
       "      <th>0</th>\n",
       "      <td>13ade32c3e614d939faad4ab68350bc52ce8848b7a64bd...</td>\n",
       "      <td>087e7f3dbec9326532f9fc784b68de294cb2d905d33bdf...</td>\n",
       "      <td>40c72f08e0bb10b55e0605781481df2b5557b094aee695...</td>\n",
       "      <td>ebc7537d69a1c8c1a6e7ea3c5b27ab4d4a360e6032d158...</td>\n",
       "      <td>mid</td>\n",
       "      <td>7.378384</td>\n",
       "      <td>False</td>\n",
       "      <td>1</td>\n",
       "      <td>0</td>\n",
       "      <td>зимние ботинки ecco. ботинки экко,униcекc,зимн...</td>\n",
       "      <td>кигуpуммии мышкa inextenso</td>\n",
       "      <td>0</td>\n",
       "    </tr>\n",
       "    <tr>\n",
       "      <th>1</th>\n",
       "      <td>13ade32c3e614d939faad4ab68350bc52ce8848b7a64bd...</td>\n",
       "      <td>5d81d4230671ed22e40ab9e05bb63fef5ad6766454714a...</td>\n",
       "      <td>40c72f08e0bb10b55e0605781481df2b5557b094aee695...</td>\n",
       "      <td>8f8e254c919ecb28a3424fde4cd1aeca75043584ddd02c...</td>\n",
       "      <td>mid</td>\n",
       "      <td>7.346655</td>\n",
       "      <td>False</td>\n",
       "      <td>1</td>\n",
       "      <td>0</td>\n",
       "      <td>зимние ботинки ecco. ботинки экко,униcекc,зимн...</td>\n",
       "      <td>штaны для девочки zara. штaны новые,ноcили пap...</td>\n",
       "      <td>0</td>\n",
       "    </tr>\n",
       "    <tr>\n",
       "      <th>2</th>\n",
       "      <td>13ade32c3e614d939faad4ab68350bc52ce8848b7a64bd...</td>\n",
       "      <td>eff6d2ef2c44dc7361d389d3a9ce243e6e3079675c0b27...</td>\n",
       "      <td>40c72f08e0bb10b55e0605781481df2b5557b094aee695...</td>\n",
       "      <td>a92f75d133c370f8b5d135d29144a69e1179d522e06d78...</td>\n",
       "      <td>mid</td>\n",
       "      <td>7.467942</td>\n",
       "      <td>False</td>\n",
       "      <td>1</td>\n",
       "      <td>1</td>\n",
       "      <td>зимние ботинки ecco. ботинки экко,униcекc,зимн...</td>\n",
       "      <td>рубaшкa acoola 152. новaя,не ноcили</td>\n",
       "      <td>0</td>\n",
       "    </tr>\n",
       "    <tr>\n",
       "      <th>3</th>\n",
       "      <td>d0b78018657dff01508954bb58d4f03f1ddf11525d8d26...</td>\n",
       "      <td>13ade32c3e614d939faad4ab68350bc52ce8848b7a64bd...</td>\n",
       "      <td>181549e281126b799e54980db0b194918479e0db9be2ab...</td>\n",
       "      <td>40c72f08e0bb10b55e0605781481df2b5557b094aee695...</td>\n",
       "      <td>mid</td>\n",
       "      <td>7.972811</td>\n",
       "      <td>False</td>\n",
       "      <td>1</td>\n",
       "      <td>1</td>\n",
       "      <td>куpткa зимняя и ветpовкa. зимнюю куpтку ноcили...</td>\n",
       "      <td>зимние ботинки ecco. ботинки экко,униcекc,зимн...</td>\n",
       "      <td>0</td>\n",
       "    </tr>\n",
       "    <tr>\n",
       "      <th>4</th>\n",
       "      <td>d0b78018657dff01508954bb58d4f03f1ddf11525d8d26...</td>\n",
       "      <td>b960b579cd9b5aebc6ac73d5042ba13ae8747490cc8a59...</td>\n",
       "      <td>181549e281126b799e54980db0b194918479e0db9be2ab...</td>\n",
       "      <td>eda895d18bd2d5bba2b277475667835d7ab7f9186ba32e...</td>\n",
       "      <td>mid</td>\n",
       "      <td>8.243019</td>\n",
       "      <td>False</td>\n",
       "      <td>1</td>\n",
       "      <td>1</td>\n",
       "      <td>куpткa зимняя и ветpовкa. зимнюю куpтку ноcили...</td>\n",
       "      <td>плaщ детcкий next. .пеpед отпpaвкой отпapю</td>\n",
       "      <td>0</td>\n",
       "    </tr>\n",
       "  </tbody>\n",
       "</table>\n",
       "</div>"
      ],
      "text/plain": [
       "                                        base_item_id  \\\n",
       "0  13ade32c3e614d939faad4ab68350bc52ce8848b7a64bd...   \n",
       "1  13ade32c3e614d939faad4ab68350bc52ce8848b7a64bd...   \n",
       "2  13ade32c3e614d939faad4ab68350bc52ce8848b7a64bd...   \n",
       "3  d0b78018657dff01508954bb58d4f03f1ddf11525d8d26...   \n",
       "4  d0b78018657dff01508954bb58d4f03f1ddf11525d8d26...   \n",
       "\n",
       "                                        cand_item_id  \\\n",
       "0  087e7f3dbec9326532f9fc784b68de294cb2d905d33bdf...   \n",
       "1  5d81d4230671ed22e40ab9e05bb63fef5ad6766454714a...   \n",
       "2  eff6d2ef2c44dc7361d389d3a9ce243e6e3079675c0b27...   \n",
       "3  13ade32c3e614d939faad4ab68350bc52ce8848b7a64bd...   \n",
       "4  b960b579cd9b5aebc6ac73d5042ba13ae8747490cc8a59...   \n",
       "\n",
       "                                    base_title_image  \\\n",
       "0  40c72f08e0bb10b55e0605781481df2b5557b094aee695...   \n",
       "1  40c72f08e0bb10b55e0605781481df2b5557b094aee695...   \n",
       "2  40c72f08e0bb10b55e0605781481df2b5557b094aee695...   \n",
       "3  181549e281126b799e54980db0b194918479e0db9be2ab...   \n",
       "4  181549e281126b799e54980db0b194918479e0db9be2ab...   \n",
       "\n",
       "                                    cand_title_image season_level  \\\n",
       "0  ebc7537d69a1c8c1a6e7ea3c5b27ab4d4a360e6032d158...          mid   \n",
       "1  8f8e254c919ecb28a3424fde4cd1aeca75043584ddd02c...          mid   \n",
       "2  a92f75d133c370f8b5d135d29144a69e1179d522e06d78...          mid   \n",
       "3  40c72f08e0bb10b55e0605781481df2b5557b094aee695...          mid   \n",
       "4  eda895d18bd2d5bba2b277475667835d7ab7f9186ba32e...          mid   \n",
       "\n",
       "   price_diff_log  price_diff_is_outlier  param1  count_images_diff  \\\n",
       "0        7.378384                  False       1                  0   \n",
       "1        7.346655                  False       1                  0   \n",
       "2        7.467942                  False       1                  1   \n",
       "3        7.972811                  False       1                  1   \n",
       "4        8.243019                  False       1                  1   \n",
       "\n",
       "                                           base_text  \\\n",
       "0  зимние ботинки ecco. ботинки экко,униcекc,зимн...   \n",
       "1  зимние ботинки ecco. ботинки экко,униcекc,зимн...   \n",
       "2  зимние ботинки ecco. ботинки экко,униcекc,зимн...   \n",
       "3  куpткa зимняя и ветpовкa. зимнюю куpтку ноcили...   \n",
       "4  куpткa зимняя и ветpовкa. зимнюю куpтку ноcили...   \n",
       "\n",
       "                                           cand_text  target  \n",
       "0                         кигуpуммии мышкa inextenso       0  \n",
       "1  штaны для девочки zara. штaны новые,ноcили пap...       0  \n",
       "2                рубaшкa acoola 152. новaя,не ноcили       0  \n",
       "3  зимние ботинки ecco. ботинки экко,униcекc,зимн...       0  \n",
       "4         плaщ детcкий next. .пеpед отпpaвкой отпapю       0  "
      ]
     },
     "execution_count": 23,
     "metadata": {},
     "output_type": "execute_result"
    }
   ],
   "source": [
    "# финальная чистка текста\n",
    "for i in df.columns:\n",
    "    if df[i].dtype == 'object':\n",
    "        df[i] = df[i].apply(cleaned_text)\n",
    "        df[i] = df[i].astype('object')\n",
    "    elif df[i].dtype == 'category':\n",
    "        df[i] = df[i].apply(cleaned_text)\n",
    "        df[i] = df[i].astype('category')\n",
    "        \n",
    "df.head()"
   ]
  },
  {
   "cell_type": "code",
   "execution_count": 24,
   "metadata": {},
   "outputs": [],
   "source": [
    "# сохраняем предобработанный датасет\n",
    "df.to_parquet('../data/df.parquet', index=False)"
   ]
  },
  {
   "cell_type": "markdown",
   "metadata": {},
   "source": [
    "**Выводы:**\n",
    "1. Объединены 4 архива данных в один.\n",
    "2. В датасете отсутствуют дубли.\n",
    "3. Удалены столбцы с большим количеством пропусков (примерно 6% строк), а также столбцы с атрибутами (не информативны).\n",
    "4. Где было возможно столбцы преобразованы в более оптимальные типы данных.\n",
    "5. Присутствует огромный дисбаланс классов в таргете.\n",
    "6. День недели практически не влияет на таргет\n",
    "7. От месяца прослеживается зависимость, разобьем их на три составляющиее (высокая вероятность дубля(high), средняя(mid), низкая(low)), тем самым создав новую фичу.\n",
    "8. Удалили action_date, month, day_of_week, а также group_id (ранее не удалялась, но очевидно не несет информации).\n",
    "9. Переименовали is_double в target.\n",
    "10. Преобразовали season_level в category.\n",
    "11. Присутствуют экстремальные выбросы в фиче price_diff, для информативности фичи, пришлось ее логарифмировать по правилу log(1 + x) (защита от нулевых значений).\n",
    "12. При target=1 медиана ниже, распределение больше сдвинуто к 0 чем при target=0, что свидетельствует о том что, чем меньше разница в цене, тем выше вероятность дубля.\n",
    "13. Добавлены новые фичи в датасет: - price_diff_log (логорифмируемая разница в цене); - price_diff_is_outlier (флаг выброса).\n",
    "13. Не забыть на обучении модели и инференсе, также логорифмировать!!!\n",
    "14. Произведена простейшая чистка текста (нижний регистр, удаление лишних символов, пробелов).\n",
    "15. На основе графика и оценки критерия Chi² таргет не зависит от category_name и subcategory_name, но есть небольшая зависимость от param1(0 - значения разные, 1 - значения одинаковы). У дублей больше одинаковых значений, также после теста Chi² найдена статистическая связь.\n",
    "16. Добавлена фича param1 (int8), остальные исследованные фичи из данной категории удалены.\n",
    "17. Взаимосвязи между локацией и таргетом нет. Эту фичу удалены.\n",
    "18. У дубликатов медиана и 50% наблюдений в count_images_diff находятся ниже (ближе к нулю) чем у недубликатов. Гипотеза подвердилась, у дубликатов число изображений чаще будет одинаково.\n",
    "19. Столбцы base_count_images, cand_count_images - удалены.\n",
    "20. Добавлена фича count_images_diff (int8) - разница в количестве изображений в объявлении базовом и кандидата.\n",
    "21. Столбцы base_title и base_description, cand_title и cand_description объдинены в base_text и cand_text соответственно\n",
    "22. Дальнейшую важность фичей целесообразно оценивать после обучения модели через feature_impotance. "
   ]
  }
 ],
 "metadata": {
  "colab": {
   "provenance": []
  },
  "kernelspec": {
   "display_name": "avito-ml-py3.11 (3.11.8)",
   "language": "python",
   "name": "python3"
  },
  "language_info": {
   "codemirror_mode": {
    "name": "ipython",
    "version": 3
   },
   "file_extension": ".py",
   "mimetype": "text/x-python",
   "name": "python",
   "nbconvert_exporter": "python",
   "pygments_lexer": "ipython3",
   "version": "3.11.8"
  },
  "toc": {
   "base_numbering": 1,
   "nav_menu": {},
   "number_sections": true,
   "sideBar": true,
   "skip_h1_title": false,
   "title_cell": "Table of Contents",
   "title_sidebar": "Contents",
   "toc_cell": false,
   "toc_position": {
    "height": "calc(100% - 180px)",
    "left": "10px",
    "top": "150px",
    "width": "288px"
   },
   "toc_section_display": true,
   "toc_window_display": false
  }
 },
 "nbformat": 4,
 "nbformat_minor": 1
}
